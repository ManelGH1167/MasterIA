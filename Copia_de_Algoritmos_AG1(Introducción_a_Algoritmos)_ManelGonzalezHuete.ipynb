{
  "nbformat": 4,
  "nbformat_minor": 0,
  "metadata": {
    "colab": {
      "provenance": [],
      "include_colab_link": true
    },
    "kernelspec": {
      "name": "python3",
      "display_name": "Python 3"
    },
    "language_info": {
      "name": "python"
    }
  },
  "cells": [
    {
      "cell_type": "markdown",
      "metadata": {
        "id": "view-in-github",
        "colab_type": "text"
      },
      "source": [
        "<a href=\"https://colab.research.google.com/github/ManelGH1167/MasterIA/blob/main/Copia_de_Algoritmos_AG1(Introducci%C3%B3n_a_Algoritmos)_ManelGonzalezHuete.ipynb\" target=\"_parent\"><img src=\"https://colab.research.google.com/assets/colab-badge.svg\" alt=\"Open In Colab\"/></a>"
      ]
    },
    {
      "cell_type": "markdown",
      "metadata": {
        "id": "GG2D6vLdYwwy"
      },
      "source": [
        "# Algoritmos - Actividad Guiada 1 de Algoritmos de Optimizacion\n",
        "\n",
        "Nombre: Manel González Huete\n",
        "\n",
        "https://colab.research.google.com/drive/1jXXBJhBthHmKjWP6I9S9iqgRjZjVBaNf\n",
        "\n",
        "https://github.com/ManelGH1167/MasterIA/blob/main/Algoritmos_AG1(Introducci%C3%B3n_a_Algoritmos)_ManelGonzalezHuete.ipynb\n",
        "\n"
      ]
    },
    {
      "cell_type": "markdown",
      "source": [
        "## Decorador python para medir el tiempo de ejecución"
      ],
      "metadata": {
        "id": "pvvU_13snJtg"
      }
    },
    {
      "cell_type": "code",
      "source": [
        "#importar libreria\n",
        "import time\n",
        "import numpy as np"
      ],
      "metadata": {
        "id": "IJldJ3yhwGko"
      },
      "execution_count": null,
      "outputs": []
    },
    {
      "cell_type": "code",
      "source": [
        "# Decorador para medir el tiempo de ejecución\n",
        "def medir_tiempo(func):\n",
        "    def wrapper(*args, **kwargs):\n",
        "        inicio = time.perf_counter()\n",
        "        resultado = func(*args, **kwargs)\n",
        "        fin = time.perf_counter()\n",
        "        print(f\"Tiempo de ejecución de '{func.__name__}': {fin - inicio:.6f} segundos\")\n",
        "        return resultado\n",
        "    return wrapper"
      ],
      "metadata": {
        "id": "ap1E8xHJnFBl"
      },
      "execution_count": null,
      "outputs": []
    },
    {
      "cell_type": "markdown",
      "source": [
        "## Torres de Hanoi con Divide y vencerás"
      ],
      "metadata": {
        "id": "Wrj00eM4fEKE"
      }
    },
    {
      "cell_type": "code",
      "source": [
        "@medir_tiempo\n",
        "def Torres_Hanoi(N, desde, hasta):\n",
        "  if N ==1 :\n",
        "    print(\"Mueve la ficha desde:\" ,desde , \" hasta:\", hasta )\n",
        "  else:\n",
        "    #Torres_Hanoi(N-1, desde, 6-desde-hasta )\n",
        "    Torres_Hanoi(N-1, desde, 6-desde-hasta )\n",
        "    print(\"Lleva la ficha desde:\" ,desde , \" hasta:\", hasta )\n",
        "    #Torres_Hanoi(N-1,6-desde-hasta, hasta )\n",
        "    Torres_Hanoi(N-1, 6-desde-hasta , hasta )\n",
        "\n",
        "# Ejecutamos la resolución de las Torres de Hanoi\n",
        "Torres_Hanoi(3, 1 , 3)"
      ],
      "metadata": {
        "colab": {
          "base_uri": "https://localhost:8080/"
        },
        "id": "isR0FLnvD64M",
        "outputId": "8ee6e675-55dd-4e74-b7fd-8835d9135be3"
      },
      "execution_count": null,
      "outputs": [
        {
          "output_type": "stream",
          "name": "stdout",
          "text": [
            "Mueve la ficha desde: 1  hasta: 3\n",
            "Tiempo de ejecución de 'Torres_Hanoi': 0.000140 segundos\n",
            "Lleva la ficha desde: 1  hasta: 2\n",
            "Mueve la ficha desde: 3  hasta: 2\n",
            "Tiempo de ejecución de 'Torres_Hanoi': 0.000431 segundos\n",
            "Tiempo de ejecución de 'Torres_Hanoi': 0.000711 segundos\n",
            "Lleva la ficha desde: 1  hasta: 3\n",
            "Mueve la ficha desde: 2  hasta: 1\n",
            "Tiempo de ejecución de 'Torres_Hanoi': 0.000056 segundos\n",
            "Lleva la ficha desde: 2  hasta: 3\n",
            "Mueve la ficha desde: 1  hasta: 3\n",
            "Tiempo de ejecución de 'Torres_Hanoi': 0.000055 segundos\n",
            "Tiempo de ejecución de 'Torres_Hanoi': 0.000208 segundos\n",
            "Tiempo de ejecución de 'Torres_Hanoi': 0.007304 segundos\n"
          ]
        }
      ]
    },
    {
      "cell_type": "markdown",
      "source": [
        "## Sucesión_de_Fibonacci"
      ],
      "metadata": {
        "id": "0SnU9wujbaOI"
      }
    },
    {
      "cell_type": "code",
      "source": [
        "#Sucesión_de_Fibonacci\n",
        "#https://es.wikipedia.org/wiki/Sucesi%C3%B3n_de_Fibonacci\n",
        "#Calculo del termino n-simo de la suscesión de Fibonacci\n",
        "def Fibonacci(N:int):\n",
        "  if N < 2:\n",
        "    return 1\n",
        "  else:\n",
        "    return Fibonacci(N-1)+Fibonacci(N-2)\n",
        "\n",
        "print(Fibonacci(35))\n",
        "print(Fibonacci(37))\n"
      ],
      "metadata": {
        "id": "dZin0SMubpRo",
        "colab": {
          "base_uri": "https://localhost:8080/"
        },
        "outputId": "04e2bc71-bfff-43d6-857c-eab0ce11c3de"
      },
      "execution_count": null,
      "outputs": [
        {
          "output_type": "stream",
          "name": "stdout",
          "text": [
            "14930352\n",
            "39088169\n"
          ]
        }
      ]
    },
    {
      "cell_type": "markdown",
      "source": [
        "## Devolución de cambio por técnica voraz"
      ],
      "metadata": {
        "id": "ZPLchdTpcJmp"
      }
    },
    {
      "cell_type": "code",
      "source": [
        "@medir_tiempo\n",
        "def cambio_monedas(N, SM):\n",
        "  SOLUCION = [0]*len(SM)   #SOLUCION = [0,0,0,0,..]\n",
        "  ValorAcumulado = 0\n",
        "\n",
        "  for i,valor in enumerate(SM):\n",
        "    monedas =  (N-ValorAcumulado)//valor\n",
        "    SOLUCION[i] = monedas\n",
        "    ValorAcumulado = ValorAcumulado + monedas*valor\n",
        "\n",
        "    if ValorAcumulado == N:\n",
        "      return SOLUCION\n",
        "\n",
        "cambio_monedas(143,[50,25,10,5,1])"
      ],
      "metadata": {
        "colab": {
          "base_uri": "https://localhost:8080/"
        },
        "id": "MtlaIevRcflH",
        "outputId": "5522026e-2040-4fd1-d587-50fb914ffe39"
      },
      "execution_count": null,
      "outputs": [
        {
          "output_type": "stream",
          "name": "stdout",
          "text": [
            "Tiempo de ejecución de 'cambio_monedas': 0.000005 segundos\n"
          ]
        },
        {
          "output_type": "execute_result",
          "data": {
            "text/plain": [
              "[2, 1, 1, 1, 3]"
            ]
          },
          "metadata": {},
          "execution_count": 8
        }
      ]
    },
    {
      "cell_type": "markdown",
      "source": [
        "## N-Reinas por técnica de vueta atrás"
      ],
      "metadata": {
        "id": "nOX6sWtrfaa5"
      }
    },
    {
      "cell_type": "code",
      "source": [
        "def escribe(S):\n",
        "  n = len(S)\n",
        "  for x in range(n):\n",
        "    print(\"\")\n",
        "    for i in range(n):\n",
        "      if S[i] == x+1:\n",
        "        print(\" X \" , end=\"\")\n",
        "      else:\n",
        "        print(\" - \", end=\"\")"
      ],
      "metadata": {
        "id": "MapmlQZQfcow"
      },
      "execution_count": null,
      "outputs": []
    },
    {
      "cell_type": "code",
      "source": [
        "def es_prometedora(SOLUCION,etapa):\n",
        "  # print(\"Solucion:\", SOLUCION)\n",
        "  #Si la solución tiene dos valores iguales no es valida => Dos reinas en la misma fila\n",
        "  for i in range(etapa+1):\n",
        "    # print(\"El valor \" + str(SOLUCION[i]) + \" está \" +  str(SOLUCION.count(SOLUCION[i])) + \" veces\")\n",
        "    if SOLUCION.count(SOLUCION[i]) > 1:\n",
        "      return False\n",
        "\n",
        "    #Verifica las diagonales\n",
        "    for j in range(i+1, etapa +1 ):\n",
        "      # print(\"Comprobando diagonal de \" + str(i) + \" y \" + str(j) + \" con resultado:\", end=(\"\"))\n",
        "      if abs(i-j) == abs(SOLUCION[i]-SOLUCION[j]) :\n",
        "        # print(\"Diagonal\")\n",
        "        return False\n",
        "      # print(\"Falso\")\n",
        "\n",
        "  return True"
      ],
      "metadata": {
        "id": "Sh8Vz7tZof-X"
      },
      "execution_count": null,
      "outputs": []
    },
    {
      "cell_type": "code",
      "source": [
        "def reinas(N, solucion=[], etapa=0):\n",
        "  if len(solucion) == 0:\n",
        "      solucion=[0 for i in range(N)]\n",
        "\n",
        "  # Recorre las filas ...\n",
        "  for i in range(1, N+1):\n",
        "    solucion[etapa] = i\n",
        "\n",
        "    if es_prometedora(solucion, etapa):\n",
        "      # print (\"prometedora\", etapa)\n",
        "      if etapa == N-1:\n",
        "        print(solucion)\n",
        "        escribe(solucion)\n",
        "        print()\n",
        "      else:\n",
        "        # print (\"else-reinas\")\n",
        "        reinas(N, solucion, etapa+1)\n",
        "    else:\n",
        "      None\n",
        "\n",
        "    solucion[etapa] = 0"
      ],
      "metadata": {
        "id": "02O4uzC-okgd"
      },
      "execution_count": null,
      "outputs": []
    },
    {
      "cell_type": "code",
      "source": [
        "celdas = 4\n",
        "solucion=[0 for i in range(celdas)]\n",
        "reinas(celdas,solucion)"
      ],
      "metadata": {
        "colab": {
          "base_uri": "https://localhost:8080/"
        },
        "id": "nhdrHdiSolzB",
        "outputId": "acffd4af-ba05-4f55-de02-3171f43633c2"
      },
      "execution_count": null,
      "outputs": [
        {
          "output_type": "stream",
          "name": "stdout",
          "text": [
            "[2, 4, 1, 3]\n",
            "\n",
            " -  -  X  - \n",
            " X  -  -  - \n",
            " -  -  -  X \n",
            " -  X  -  - \n",
            "[3, 1, 4, 2]\n",
            "\n",
            " -  X  -  - \n",
            " -  -  -  X \n",
            " X  -  -  - \n",
            " -  -  X  - \n"
          ]
        }
      ]
    },
    {
      "cell_type": "markdown",
      "source": [
        "## Viaje por el rio. Programación dinámica"
      ],
      "metadata": {
        "id": "R7bl3kktpvYU"
      }
    },
    {
      "cell_type": "code",
      "source": [
        "TARIFAS = [\n",
        "[  0,  5,  4,  3,999,999,999],\n",
        "[999,  0,999,  2,  3,999, 11],\n",
        "[999,999,  0,  1,999,  4, 10],\n",
        "[999,999,999,  0,  5,  6,  9],\n",
        "[999,999,999,999,  0,999,  4],\n",
        "[999,999,999,999,999,  0,  3],\n",
        "[999,999,999,999,999,999,  0]\n",
        "]"
      ],
      "metadata": {
        "id": "UMusxpuKpzWI"
      },
      "execution_count": null,
      "outputs": []
    },
    {
      "cell_type": "code",
      "source": [
        "################################################################\n",
        "def Precios(TARIFAS):\n",
        "################################################################\n",
        "  #Total de Nodos\n",
        "  N = len(TARIFAS[0])\n",
        "\n",
        "  #Inicialización de la tabla de precios\n",
        "  PRECIOS = [ [9999]*N for i in [9999]*N]\n",
        "  RUTA = [ [\"\"]*N for i in [\"\"]*N]\n",
        "\n",
        "  for i in range(0,N-1):\n",
        "    RUTA[i][i] = i             #Para ir de i a i se \"pasa por i\"\n",
        "    PRECIOS[i][i] = 0          #Para ir de i a i se se paga 0\n",
        "    for j in range(i+1, N):\n",
        "      MIN = TARIFAS[i][j]\n",
        "      RUTA[i][j] = i\n",
        "\n",
        "      for k in range(i, j):\n",
        "        if PRECIOS[i][k] + TARIFAS[k][j] < MIN:\n",
        "            MIN = min(MIN, PRECIOS[i][k] + TARIFAS[k][j] )\n",
        "            RUTA[i][j] = k          #Anota que para ir de i a j hay que pasar por k\n",
        "        PRECIOS[i][j] = MIN\n",
        "\n",
        "  return PRECIOS,RUTA\n",
        "################################################################"
      ],
      "metadata": {
        "id": "IrK5GqDmp2WW"
      },
      "execution_count": null,
      "outputs": []
    },
    {
      "cell_type": "code",
      "source": [
        "#Determinar la ruta con Recursividad\n",
        "def calcular_ruta(RUTA, desde, hasta):\n",
        "  if desde == hasta:\n",
        "    print(\"Ir a :\" + str(desde))\n",
        "    return \"\"\n",
        "  else:\n",
        "    return str(calcular_ruta( RUTA, desde, RUTA[desde][hasta])) +  \\\n",
        "                ',' + \\\n",
        "                str(RUTA[desde][hasta] \\\n",
        "              )"
      ],
      "metadata": {
        "id": "5YfXAbfcp_uz"
      },
      "execution_count": null,
      "outputs": []
    },
    {
      "cell_type": "code",
      "source": [
        "PRECIOS,RUTA = Precios(TARIFAS)\n",
        "#print(PRECIOS[0][6])\n",
        "\n",
        "print(\"PRECIOS\")\n",
        "for i in range(len(TARIFAS)):\n",
        "  print(PRECIOS[i])\n",
        "\n",
        "print(\"\\nRUTA\")\n",
        "for i in range(len(TARIFAS)):\n",
        "  print(RUTA[i])"
      ],
      "metadata": {
        "colab": {
          "base_uri": "https://localhost:8080/"
        },
        "id": "D09rpjHxqBVh",
        "outputId": "30b829a4-2611-40b5-d924-a943fbb70deb"
      },
      "execution_count": null,
      "outputs": [
        {
          "output_type": "stream",
          "name": "stdout",
          "text": [
            "PRECIOS\n",
            "[0, 5, 4, 3, 8, 8, 11]\n",
            "[9999, 0, 999, 2, 3, 8, 7]\n",
            "[9999, 9999, 0, 1, 6, 4, 7]\n",
            "[9999, 9999, 9999, 0, 5, 6, 9]\n",
            "[9999, 9999, 9999, 9999, 0, 999, 4]\n",
            "[9999, 9999, 9999, 9999, 9999, 0, 3]\n",
            "[9999, 9999, 9999, 9999, 9999, 9999, 9999]\n",
            "\n",
            "RUTA\n",
            "[0, 0, 0, 0, 1, 2, 5]\n",
            "['', 1, 1, 1, 1, 3, 4]\n",
            "['', '', 2, 2, 3, 2, 5]\n",
            "['', '', '', 3, 3, 3, 3]\n",
            "['', '', '', '', 4, 4, 4]\n",
            "['', '', '', '', '', 5, 5]\n",
            "['', '', '', '', '', '', '']\n"
          ]
        }
      ]
    },
    {
      "cell_type": "code",
      "source": [
        "print(\"\\nLa ruta es:\")\n",
        "calcular_ruta(RUTA, 0,6)"
      ],
      "metadata": {
        "colab": {
          "base_uri": "https://localhost:8080/",
          "height": 90
        },
        "id": "00PsDG1FqCFl",
        "outputId": "82bf6be5-4be6-452b-f36f-696c917cd8fb"
      },
      "execution_count": null,
      "outputs": [
        {
          "output_type": "stream",
          "name": "stdout",
          "text": [
            "\n",
            "La ruta es:\n",
            "Ir a :0\n"
          ]
        },
        {
          "output_type": "execute_result",
          "data": {
            "text/plain": [
              "',0,2,5'"
            ],
            "application/vnd.google.colaboratory.intrinsic+json": {
              "type": "string"
            }
          },
          "metadata": {},
          "execution_count": 22
        }
      ]
    }
  ]
}