{
  "cells": [
    {
      "cell_type": "markdown",
      "metadata": {
        "id": "view-in-github",
        "colab_type": "text"
      },
      "source": [
        "<a href=\"https://colab.research.google.com/github/ManelGH1167/MasterIA/blob/main/Examen_C1_Manel_Gonzalez_Huete.ipynb\" target=\"_parent\"><img src=\"https://colab.research.google.com/assets/colab-badge.svg\" alt=\"Open In Colab\"/></a>"
      ]
    },
    {
      "cell_type": "markdown",
      "metadata": {
        "id": "vgFlhzpIu1uX"
      },
      "source": [
        "### EXAMEN - Convocatoria 1 - Programación\n",
        "Utilizar el conjunto de datos \"dataset_exam.npy\" para resolver el ejercicio. Tener en cuenta que la última columna corresponde a la clase.\n",
        "\n",
        "Nombre: Manel González Huete\n",
        "\n",
        "https://colab.research.google.com/drive/10ywbP9as88Ax2lcBT5U8Ub4B3E5zEw-t#scrollTo=2R-_C_sCu1uZ\n",
        "\n",
        "https://github.com/ManelGH1167/MasterIA/blob/main/Examen_C1_Manel_Gonzalez_Huete.ipynb"
      ]
    },
    {
      "cell_type": "markdown",
      "metadata": {
        "id": "PIAKYVU9u1uY"
      },
      "source": [
        "#### 1) Partición de datos externa (1 punto)\n",
        "Realizar una partición externa de tipo hold-out seleccionando un 20% de los datos para test (fijar una semilla en 42).\n",
        "Comprobad si los datos, tanto de train como de test, están más o menos balanceados."
      ]
    },
    {
      "cell_type": "code",
      "execution_count": 7,
      "metadata": {
        "id": "cloZyrO8u1uY"
      },
      "outputs": [],
      "source": [
        "import os\n",
        "import numpy as np\n",
        "import pandas as pd\n",
        "import sklearn.metrics as metrics\n",
        "from sklearn.preprocessing     import StandardScaler\n",
        "from sklearn.feature_selection import SelectPercentile, mutual_info_classif\n",
        "from sklearn.model_selection   import train_test_split, KFold, GridSearchCV, cross_val_score\n",
        "from sklearn import tree\n",
        "from sklearn import svm\n",
        "from sklearn.linear_model import LogisticRegression"
      ]
    },
    {
      "cell_type": "code",
      "execution_count": 9,
      "metadata": {
        "id": "1cMYBy5mu1uZ"
      },
      "outputs": [],
      "source": [
        "# Cargamos los datos\n",
        "data = np.load('/content/dataset_exam.npy', allow_pickle=True)"
      ]
    },
    {
      "cell_type": "code",
      "execution_count": 10,
      "metadata": {
        "id": "2R-_C_sCu1uZ",
        "outputId": "72fd7b93-359e-4536-8a8c-44e3436a5f93",
        "colab": {
          "base_uri": "https://localhost:8080/"
        }
      },
      "outputs": [
        {
          "output_type": "stream",
          "name": "stdout",
          "text": [
            "(393, 8)\n",
            "(393,)\n",
            "(99, 8)\n",
            "(99,)\n"
          ]
        }
      ],
      "source": [
        "#Deminimos una semilla para usarla en el resto del código\n",
        "semilla=42\n",
        "\n",
        "data_train, data_test = train_test_split(data, test_size=0.2, shuffle=True, random_state=semilla) # hold-out\n",
        "\n",
        "# Estraemos los atributos (x) y la etiqueta (y)\n",
        "datos_train_X = data_train[:,:-1]\n",
        "datos_train_y = data_train[:, -1]\n",
        "\n",
        "datos_test_X = data_test[:,:-1]\n",
        "datos_test_y = data_test[:, -1]\n",
        "\n",
        "print(np.shape(datos_train_X))\n",
        "print(np.shape(datos_train_y))\n",
        "print(np.shape(datos_test_X))\n",
        "print(np.shape(datos_test_y))"
      ]
    },
    {
      "cell_type": "code",
      "execution_count": 11,
      "metadata": {
        "id": "0ycUdxpau1uZ",
        "outputId": "e87210a7-5248-47fc-fd24-9677ce96054c",
        "colab": {
          "base_uri": "https://localhost:8080/"
        }
      },
      "outputs": [
        {
          "output_type": "stream",
          "name": "stdout",
          "text": [
            "[INFO] --- TRAIN --- \n",
            "Valores:  [0. 1.] \n",
            "Negativo:  195 \n",
            "Positivo:  198\n",
            "[INFO] --- TEST --- \n",
            "Valores:  [0. 1.] \n",
            "Negativo:  195 \n",
            "Positivo:  48\n"
          ]
        }
      ],
      "source": [
        "#Validamos el balanceo de train y de test.\n",
        "val_train , num_train= np.unique(datos_train_y, return_counts=True)\n",
        "val_test , num_test = np.unique(datos_test_y, return_counts=True)\n",
        "\n",
        "print('[INFO] --- TRAIN --- \\nValores: ', val_train, '\\nNegativo: ', num_train[0], '\\nPositivo: ', num_train[1])\n",
        "print('[INFO] --- TEST --- \\nValores: ', val_test, '\\nNegativo: ', num_train[0], '\\nPositivo: ', num_test[1])"
      ]
    },
    {
      "cell_type": "markdown",
      "metadata": {
        "id": "lEKzoOq3u1uZ"
      },
      "source": [
        "Vemos que la **etiqueta es binaria**, no se trata de un problema multiclase"
      ]
    },
    {
      "cell_type": "markdown",
      "metadata": {
        "id": "Mcxc54ipu1ua"
      },
      "source": [
        "**Se valida que están relativamente bien balanceados**"
      ]
    },
    {
      "cell_type": "markdown",
      "metadata": {
        "id": "1364BHvvu1ua"
      },
      "source": [
        "#### 2) Estandarización de los datos de train y test (1 punto)\n",
        "Utilizar el método StandardScaler()."
      ]
    },
    {
      "cell_type": "code",
      "execution_count": 12,
      "metadata": {
        "id": "0dByedl1u1ua",
        "outputId": "15c3e622-5cf6-40f5-8677-5d96230767a5",
        "colab": {
          "base_uri": "https://localhost:8080/"
        }
      },
      "outputs": [
        {
          "output_type": "stream",
          "name": "stdout",
          "text": [
            "[INFO] --- TRAIN --- \n",
            "[[-0.53714485 -0.41701989 -0.37232487 -0.42469918  0.88784615 -0.54017298\n",
            "  -1.96779643 -2.17643457]\n",
            " [ 1.86169522 -0.41701989 -1.25913502  0.31710872  0.88784615  0.33529217\n",
            "   0.47045818  0.57704227]\n",
            " [-0.53714485  0.63354944 -0.37232487 -1.16650709  1.78252188 -2.29090328\n",
            "  -0.78155436 -2.19168937]\n",
            " [ 1.86169522  0.63354944 -1.25913502  0.31710872  0.88784615 -2.1946854\n",
            "  -0.70088243 -2.11512786]\n",
            " [-0.53714485 -1.46758922  0.51448528  0.31710872 -0.90150532  0.45491681\n",
            "   0.15483585  0.27805077]]\n",
            "[INFO] --- TEST --- \n",
            "[[-0.53714485  0.63354944 -0.37232487 -1.908315    2.67719761  0.05934713\n",
            "   0.34463955 -0.04781824]\n",
            " [-0.53714485 -0.41701989  2.28810557 -0.42469918 -1.79618105  0.73631258\n",
            "   0.52701466  0.66320258]\n",
            " [ 1.86169522  0.63354944 -0.37232487  0.31710872 -0.00682959 -0.28406237\n",
            "   0.31670305  0.46205349]\n",
            " [-0.53714485  0.63354944 -0.37232487  1.05891663 -0.90150532 -0.59020263\n",
            "   0.70077578  0.46205349]\n",
            " [-0.53714485 -0.41701989  1.40129542 -0.42469918 -0.90150532  0.64235276\n",
            "   0.16621631  0.39633355]]\n"
          ]
        }
      ],
      "source": [
        "# Realizamos el proceso de estandarización de los datos de \"train\"\n",
        "estandarizar = StandardScaler()\n",
        "datos_standard = estandarizar.fit(datos_train_X)\n",
        "datos_train_X = datos_standard.transform(datos_train_X)\n",
        "datos_test_X  = datos_standard.transform(datos_test_X)\n",
        "print(\"[INFO] --- TRAIN --- \")\n",
        "print(datos_train_X[:5])\n",
        "print(\"[INFO] --- TEST --- \")\n",
        "print(datos_test_X[:5])"
      ]
    },
    {
      "cell_type": "markdown",
      "metadata": {
        "id": "chl26mwSu1ua"
      },
      "source": [
        "#### 3) Selección de atributos en train y test (1 punto)\n",
        "Aplicar el método de mutual information para clasificación seleccionando un percentile=90. (Recordad la función \"SelectPercentile\")"
      ]
    },
    {
      "cell_type": "code",
      "execution_count": 13,
      "metadata": {
        "id": "213oLo8Pu1ua",
        "outputId": "8653529e-ff23-4529-d1b1-f622b4a88f32",
        "colab": {
          "base_uri": "https://localhost:8080/"
        }
      },
      "outputs": [
        {
          "output_type": "stream",
          "name": "stdout",
          "text": [
            "[INFO] --- TRAIN --- Forma original de los 'atributos': (393, 8)\n",
            "[INFO] --- TRAIN --- Forma de 'atributos' después de la selección: (393, 7)\n",
            "[INFO] --- TEST --- Forma original de los 'atributos': (99, 8)\n",
            "[INFO] --- TEST --- Forma de 'atributos' después de la selección: (99, 7)\n"
          ]
        }
      ],
      "source": [
        "# Crear el selector con mutual information para clasificación seleccionando un percentile=90\n",
        "selector = SelectPercentile(score_func=mutual_info_classif, percentile=90)\n",
        "\n",
        "# Ajustar el selector con los datos de train\n",
        "selector.fit(datos_train_X, datos_train_y)\n",
        "\n",
        "# Transformar las X de train con las mejores características\n",
        "datos_train_X_selected = selector.transform(datos_train_X)\n",
        "datos_test_X_selected = selector.transform(datos_test_X)\n",
        "\n",
        "# Mostrar la nueva forma de los atributos tras la selección realizada\n",
        "print(\"[INFO] --- TRAIN --- Forma original de los 'atributos':\", datos_train_X.shape)\n",
        "print(\"[INFO] --- TRAIN --- Forma de 'atributos' después de la selección:\", datos_train_X_selected.shape)\n",
        "print(\"[INFO] --- TEST --- Forma original de los 'atributos':\", datos_test_X.shape)\n",
        "print(\"[INFO] --- TEST --- Forma de 'atributos' después de la selección:\", datos_test_X_selected.shape)\n"
      ]
    },
    {
      "cell_type": "markdown",
      "metadata": {
        "id": "F-nstC9du1ua"
      },
      "source": [
        "#### 4) Comparación de modelos de clasificación mediante validación cruzada (3 puntos)\n",
        "Instrucciones:\n",
        "\n",
        "- Aplicar una validación cruzada interna de K=5 bolsas para optimizar y comparar la capacidad predictiva de los siguientes modelos: Regresión Logística y Support Vector Machine.\n",
        "- La optimización de hiperparámetros debe realizarse de manera automática. (Recordad la función \"GridSearchCV\").\n",
        "- La comparación debe realizarse únicamente en términos de exactitud proporcionando resultados de media +- desviación estándar."
      ]
    },
    {
      "cell_type": "code",
      "execution_count": 14,
      "metadata": {
        "id": "_mY5ot0Zu1ua",
        "outputId": "a709bc4d-f95c-47bb-d6f6-c8e5b8747baf",
        "colab": {
          "base_uri": "https://localhost:8080/"
        }
      },
      "outputs": [
        {
          "output_type": "stream",
          "name": "stdout",
          "text": [
            "[INFO] --- LOGR: Accuracy: 0.6740 +/- 0.0710\n",
            "[INFO] --- SVM: Accuracy: 0.7964 +/- 0.0170\n",
            "[INFO] --- DT: Accuracy: 0.9771 +/- 0.0235\n"
          ]
        }
      ],
      "source": [
        "# Definición de los algoritmos de clasificación a utilizar\n",
        "algoritmos = {'LOGR': LogisticRegression(penalty='l2', solver='saga', max_iter=1000, random_state=semilla),\n",
        "              'SVM': svm.SVC(C=10, random_state=semilla, probability=True),\n",
        "              'DT': tree.DecisionTreeClassifier(criterion='gini', random_state=semilla)}\n",
        "\n",
        "# Cross-validation interno en k=5 bolsas\n",
        "results={}\n",
        "for nombre, algoritmo in algoritmos.items():\n",
        "    results[nombre] = cross_val_score(algoritmo, datos_train_X_selected, datos_train_y, cv=KFold(n_splits=5, shuffle=True, random_state=semilla))\n",
        "    print(\"[INFO] ---\",nombre + ': Accuracy: %0.4f +/- %0.4f' % (results[nombre].mean(), results[nombre].std()))"
      ]
    },
    {
      "cell_type": "markdown",
      "metadata": {
        "id": "yUlW54iEu1ua"
      },
      "source": [
        "En el ejercicio solicitaba los modelos: Regresión Logística y Support Vector Machine. Me he permitido la licencia de incluir un árbol de decisión para ver cómo se trabajaría conjuntamente, aunque para la resolución del examen me centraré exclusivamente en los modelos: **Regresión Logística y Support Vector Machine.**"
      ]
    },
    {
      "cell_type": "code",
      "execution_count": 15,
      "metadata": {
        "id": "PSjxApO2u1ua",
        "outputId": "99c5198c-9a95-499f-dcb9-a3b2f057b8ea",
        "colab": {
          "base_uri": "https://localhost:8080/"
        }
      },
      "outputs": [
        {
          "output_type": "stream",
          "name": "stdout",
          "text": [
            "[INFO] Optimizando LOGR...\n",
            "[INFO] Mejor configuración para LOGR: {'C': 0.1, 'max_iter': 100, 'penalty': 'l1', 'solver': 'liblinear'}\n",
            "[INFO] Optimizando SVM...\n",
            "[INFO] Mejor configuración para SVM: {'C': 10, 'coef0': 2, 'decision_function_shape': 'ovo', 'gamma': 'scale', 'kernel': 'poly', 'probability': True}\n",
            "[INFO] Optimizando DT...\n",
            "[INFO] Mejor configuración para DT: {'criterion': 'entropy', 'max_depth': 5, 'max_features': None, 'min_weight_fraction_leaf': 0.01, 'splitter': 'best'}\n"
          ]
        }
      ],
      "source": [
        "# Definir los modelos base\n",
        "algoritmos = {'LOGR':LogisticRegression(random_state=semilla),\n",
        "              'SVM': svm.SVC(random_state=semilla),\n",
        "              'DT' : tree.DecisionTreeClassifier(random_state=semilla)}\n",
        "\n",
        "# Definir los hiperparámetros a probar para cada modelo\n",
        "param_grid = {\n",
        "    'LOGR': {\n",
        "        'penalty': ['l1', 'l2'],\n",
        "        'C': [0.0001, 0.001, 0.01, 0.1, 1, 10, 100],\n",
        "        'solver': ['liblinear', 'saga'],\n",
        "        'max_iter': [100,500,1000,5000,10000],\n",
        "    },\n",
        "    'SVM': {\n",
        "        'C': [0.0001, 0.001, 0.01, 0.1, 1, 10, 100],\n",
        "        'kernel': ['linear', 'rbf','poly', 'sigmoid'],\n",
        "        'gamma': ['scale', 'auto'],\n",
        "        'coef0': [0.0001, 0.001, 0.01, 0.1, 1, 2],\n",
        "        'decision_function_shape': ['ovo', 'ovr'],\n",
        "        'probability': [True, False]\n",
        "    },\n",
        "    'DT': {\n",
        "        'criterion': ['gini', 'entropy'],\n",
        "        'splitter': ['best', 'random'],\n",
        "        'max_depth': [2, 3, 5, 6, 8],\n",
        "        'max_features': ['sqrt', 'log2', None],\n",
        "        'min_weight_fraction_leaf': [0.00, 0.01, 0.05, 0.1, 0.5]\n",
        "    }\n",
        "}\n",
        "\n",
        "# Guardar los mejores modelos\n",
        "best_models = {}\n",
        "cv=KFold(n_splits=5, shuffle=True, random_state=semilla)   # Definir la validación cruzada en k=5 bolsas\n",
        "\n",
        "# Optimización con GridSearchCV\n",
        "for nombre, modelo in algoritmos.items():\n",
        "    print(f\"[INFO] Optimizando {nombre}...\")\n",
        "\n",
        "    # Configurar GridSearchCV\n",
        "    grid_search = GridSearchCV(\n",
        "        modelo,\n",
        "        param_grid[nombre],\n",
        "        cv=cv,\n",
        "        scoring='accuracy',\n",
        "        n_jobs=-1\n",
        "    )\n",
        "\n",
        "    # Ajustar el modelo con GridSearchCV\n",
        "    grid_search.fit(datos_train_X_selected, datos_train_y)\n",
        "\n",
        "    # Guardar el mejor modelo\n",
        "    best_models[nombre] = grid_search.best_estimator_\n",
        "\n",
        "    print(f\"[INFO] Mejor configuración para {nombre}: {grid_search.best_params_}\")"
      ]
    },
    {
      "cell_type": "markdown",
      "metadata": {
        "id": "ROQfAzTVu1ub"
      },
      "source": [
        "Vemos que la mejora configuración para SVM tiene el parámetro **probability = \"True\"**, parámetro que es necesario posteriormente para la curva ROC ya que se necesitan probabilidades en lugar de solo etiquetas (0 o 1) que es lo que devuelve SVC al usar .predict()"
      ]
    },
    {
      "cell_type": "code",
      "execution_count": 16,
      "metadata": {
        "id": "7YxJmRgju1ub",
        "outputId": "da3f3756-0f85-4799-b847-088568bbdd52",
        "colab": {
          "base_uri": "https://localhost:8080/"
        }
      },
      "outputs": [
        {
          "output_type": "stream",
          "name": "stdout",
          "text": [
            "\n",
            "=== Comparación de Modelos ===\n",
            "[INFO] --- LOGR: Accuracy = 0.6971 ± 0.0322\n",
            "[INFO] --- SVM: Accuracy = 0.8651 ± 0.0430\n",
            "[INFO] --- DT: Accuracy = 0.9796 ± 0.0192\n"
          ]
        }
      ],
      "source": [
        "# Comparación de modelos con cross-validation\n",
        "results = {}\n",
        "print(\"\\n=== Comparación de Modelos ===\")\n",
        "for nombre, modelo in best_models.items():\n",
        "    scores = cross_val_score(modelo, datos_train_X_selected, datos_train_y, cv=cv, scoring='accuracy')\n",
        "    results[nombre] = scores\n",
        "    print(f\"[INFO] --- {nombre}: Accuracy = {scores.mean():.4f} ± {scores.std():.4f}\")"
      ]
    },
    {
      "cell_type": "markdown",
      "metadata": {
        "id": "lfmF8A-3u1ub"
      },
      "source": [
        "#### 5) Evaluación de los modelos sobre el conjunto de test (2.5 puntos)\n",
        "- Entrenar los modelos anteriores utilizando todos los datos de entrenamiento.\n",
        "- Evaluar su rendimiento sobre el conjunto de test mostrando una tabla de resultados tal que:\n",
        " * Las filas serán: Precisión, Sensibilidad, F-score, Exactitud y AUC\n",
        " * Las columnas serán: LOGR y SVM"
      ]
    },
    {
      "cell_type": "code",
      "execution_count": 17,
      "metadata": {
        "id": "5bLiXqXHu1ub",
        "outputId": "f6c538d4-1c2e-4da0-d38c-a2e28f6007e3",
        "colab": {
          "base_uri": "https://localhost:8080/"
        }
      },
      "outputs": [
        {
          "output_type": "stream",
          "name": "stdout",
          "text": [
            "[INFO] --- Entrenando algoritmo final: LOGR...\n",
            "[INFO] --- Entrenando algoritmo final: SVM...\n",
            "[INFO] --- Entrenando algoritmo final: DT...\n",
            "[INFO] --- Entrenamiento completado para todos los algoritmos.\n",
            "\n",
            "=== Resultados finales con datos de Entrenamiento ===\n",
            "            LOGR       SVM        DT\n",
            "ACC     0.730280  0.936387  0.994911\n",
            "PREC    0.731824  0.938111  0.995000\n",
            "RECALL  0.730575  0.936636  0.994872\n",
            "F1      0.729984  0.936346  0.994910\n",
            "AUC     0.730575  0.936636  0.994872\n",
            "\n",
            "=== Resultados finales con datos de TEST ===\n",
            "            LOGR       SVM        DT\n",
            "ACC     0.666667  0.818182  0.959596\n",
            "PREC    0.670455  0.820455  0.961538\n",
            "RECALL  0.668505  0.816789  0.960784\n",
            "F1      0.666122  0.817268  0.959592\n",
            "AUC     0.668505  0.816789  0.960784\n"
          ]
        }
      ],
      "source": [
        "# Métricas de evaluación.\n",
        "metricas = {\n",
        "  'ACC':    metrics.accuracy_score,\n",
        "  'PREC':   lambda y_true, y_pred:\n",
        "            metrics.precision_score(y_true, y_pred, average='macro'),\n",
        "  'RECALL': lambda y_true, y_pred:\n",
        "            metrics.recall_score(y_true, y_pred, average='macro'),\n",
        "  'F1':     lambda y_true, y_pred:\n",
        "            metrics.f1_score(y_true, y_pred, average='macro'),\n",
        "  'AUC':    lambda y_true, y_pred:\n",
        "            metrics.roc_auc_score(y_true, y_pred, average='macro') }\n",
        "\n",
        "resultados_train = {}\n",
        "resultados_test = {}\n",
        "predicciones_test = {}  # Guardaremos las predicciones para su uso posterior\n",
        "# Entrenar los mejores modelos encontrados en GridSearchCV con todos los datos de entrenamiento\n",
        "for nombre, modelo in best_models.items():\n",
        "    print(f\"[INFO] --- Entrenando algoritmo final: {nombre}...\")\n",
        "\n",
        "    # Entrenar con todos los datos de entrenamiento\n",
        "    modelo_final = modelo.fit(datos_train_X_selected, datos_train_y)\n",
        "\n",
        "    # Hacer predicciones en train -------------\n",
        "    predicciones_train = modelo_final.predict(datos_train_X_selected)\n",
        "    # Hacer predicciones en test -------------\n",
        "    predicciones_test[nombre] = modelo_final.predict(datos_test_X_selected)\n",
        "\n",
        "    res_train = {}\n",
        "    res_test = {}\n",
        "    # Calcular métricas y guardar en diccionario\n",
        "    for nombre_metrica, metrica in metricas.items():\n",
        "        res_train[nombre_metrica] = metrica(datos_train_y, predicciones_train)\n",
        "        res_test[nombre_metrica] = metrica(datos_test_y,predicciones_test[nombre])\n",
        "\n",
        "    # Guardar métricas de train en el diccionario\n",
        "    resultados_train[nombre] =  res_train\n",
        "    # Guardar métricas de test en el diccionario\n",
        "    resultados_test[nombre] =  res_test\n",
        "\n",
        "print(\"[INFO] --- Entrenamiento completado para todos los algoritmos.\")\n",
        "\n",
        "tabla_resultados = pd.DataFrame(resultados_train)  # Transponer para mejor formato\n",
        "\n",
        "# Mostrar tabla\n",
        "print(\"\\n=== Resultados finales con datos de Entrenamiento ===\")\n",
        "print(tabla_resultados)\n",
        "\n",
        "tabla_resultados = pd.DataFrame(resultados_test)  # Transponer para mejor formato\n",
        "\n",
        "# Mostrar tabla\n",
        "print(\"\\n=== Resultados finales con datos de TEST ===\")\n",
        "print(tabla_resultados)"
      ]
    },
    {
      "cell_type": "markdown",
      "metadata": {
        "id": "q9niV2UVu1ub"
      },
      "source": [
        "#### 6) Visualización de resultados (1 punto)\n",
        "- Mostrar la matriz de confusión\n",
        "- Mostrar en una única figura la comparación de las curvas ROC obtenidas por cada modelo. (Recordad que SVM requiere un parámetro específico en su llamada para poder calcular la curva ROC)."
      ]
    },
    {
      "cell_type": "code",
      "execution_count": 18,
      "metadata": {
        "id": "uOnbSN_0u1ub",
        "outputId": "9df65e55-3371-448d-b16b-86e6b109fd73",
        "colab": {
          "base_uri": "https://localhost:8080/",
          "height": 750
        }
      },
      "outputs": [
        {
          "output_type": "stream",
          "name": "stdout",
          "text": [
            "[INFO] Evaluando el modelo: LOGR...\n",
            "Matriz de confusión para LOGR:\n",
            "[[31 20]\n",
            " [13 35]]\n",
            "\n",
            "[INFO] Evaluando el modelo: SVM...\n",
            "Matriz de confusión para SVM:\n",
            "[[44  7]\n",
            " [11 37]]\n",
            "\n",
            "[INFO] Evaluando el modelo: DT...\n",
            "Matriz de confusión para DT:\n",
            "[[47  4]\n",
            " [ 0 48]]\n",
            "\n"
          ]
        },
        {
          "output_type": "display_data",
          "data": {
            "text/plain": [
              "<Figure size 1500x500 with 3 Axes>"
            ],
            "image/png": "[encoded data removed]"
          },
          "metadata": {}
        }
      ],
      "source": [
        "import seaborn as sns\n",
        "import matplotlib.pyplot as plt\n",
        "\n",
        "# Crear una figura para las matrices de confusión\n",
        "plt.figure(figsize=(15, 5))\n",
        "\n",
        "for i, (nombre, modelo) in enumerate(best_models.items(), 1):\n",
        "    print(f\"[INFO] Evaluando el modelo: {nombre}...\")\n",
        "\n",
        "    # Generar la matriz de confusión\n",
        "    cm = metrics.confusion_matrix(datos_test_y, predicciones_test[nombre])\n",
        "\n",
        "    # Extraemos la matriz de confusión\n",
        "    print(f\"Matriz de confusión para {nombre}:\\n{cm}\\n\")\n",
        "\n",
        "    # Crear una subfigura para cada modelo\n",
        "    plt.subplot(1, len(best_models), i)\n",
        "    ax = sns.heatmap(cm, annot=True, fmt='d', cmap=\"crest\", cbar=False,\n",
        "                xticklabels=['Pred. Positivo','Pred. Negativo'],\n",
        "                yticklabels=['Real Positivo','Real Negativo'],\n",
        "                annot_kws={\"size\": 14})  # Asegurar celdas cuadradas\n",
        "\n",
        "    # Ajustar el tamaño del texto de los ejes\n",
        "    ax.set_xticklabels(ax.get_xticklabels(), fontsize=12)  # Tamaño de etiquetas en eje X\n",
        "    ax.set_yticklabels(ax.get_yticklabels(), fontsize=12)  # Tamaño de etiquetas en eje Y\n",
        "    plt.title(f'Matriz de Confusión: {nombre}')\n",
        "    plt.xlabel('Predicción', fontsize=14)\n",
        "    plt.ylabel('Real', fontsize=14)\n",
        "\n",
        "plt.tight_layout()\n",
        "plt.show()"
      ]
    },
    {
      "cell_type": "code",
      "execution_count": 19,
      "metadata": {
        "id": "WyhUhqr3u1ub",
        "outputId": "e95360cb-fa08-430d-b06f-c2e5224fb44c",
        "colab": {
          "base_uri": "https://localhost:8080/",
          "height": 859
        }
      },
      "outputs": [
        {
          "output_type": "stream",
          "name": "stdout",
          "text": [
            "[INFO] Calculando la curva ROC para LOGR...\n",
            "[INFO] Calculando la curva ROC para SVM...\n",
            "[INFO] Calculando la curva ROC para DT...\n"
          ]
        },
        {
          "output_type": "display_data",
          "data": {
            "text/plain": [
              "<Figure size 1000x800 with 1 Axes>"
            ],
            "image/png": "[encoded data removed]"
          },
          "metadata": {}
        }
      ],
      "source": [
        "from sklearn.metrics import roc_curve, auc\n",
        "\n",
        "# Crear una figura para las curvas ROC\n",
        "plt.figure(figsize=(10, 8))\n",
        "\n",
        "# Iterar sobre los modelos para graficar sus curvas ROC\n",
        "for nombre, modelo in best_models.items():\n",
        "    print(f\"[INFO] Calculando la curva ROC para {nombre}...\")\n",
        "\n",
        "    # Obtener las probabilidades de predicción (necesarias para la curva ROC)\n",
        "    probas = modelo.predict_proba(datos_test_X_selected)[:, 1]  # Probabilidades de la clase positiva\n",
        "\n",
        "    # Calcular la curva ROC\n",
        "    fpr, tpr, _ = metrics.roc_curve(datos_test_y, probas)\n",
        "    roc_auc = metrics.roc_auc_score(datos_test_y, probas, average='macro')\n",
        "\n",
        "    # Graficar la curva ROC\n",
        "    plt.plot(fpr, tpr, lw=2, label=f'{nombre} (AUC = {roc_auc:.2f})')\n",
        "\n",
        "# Graficar la diagonal (representa un clasificador aleatorio)\n",
        "plt.plot([0, 1], [0, 1], color='navy', lw=2, linestyle='--')\n",
        "\n",
        "# Personalizar la gráfica\n",
        "plt.title('Comparación de Curvas ROC')\n",
        "plt.xlabel('Tasa de Falsos Positivos (FPR)')\n",
        "plt.ylabel('Tasa de Verdaderos Positivos (TPR)')\n",
        "plt.legend(loc='lower right')\n",
        "\n",
        "# Mostrar la figura\n",
        "plt.tight_layout()\n",
        "plt.show()"
      ]
    },
    {
      "cell_type": "markdown",
      "metadata": {
        "id": "3F86Q_xDu1ub"
      },
      "source": [
        "Al entrenar los modelos ya vimos que para SVM se establecía el parámetro **probability = \"True\"**, parámetro que es necesario para la curva ROC ya que se necesitan probabilidades en lugar de solo etiquetas (0 o 1) que es lo que devuelve SVC al usar .predict()"
      ]
    },
    {
      "cell_type": "markdown",
      "metadata": {
        "id": "aCxyaL_Au1ub"
      },
      "source": [
        "#### 7) Interpretación de resultados (0.5 puntos)\n",
        "* Justifica brevemente cuál de los dos modelos utilizarías para ponerlo en producción"
      ]
    },
    {
      "cell_type": "markdown",
      "metadata": {
        "id": "JOivh622u1ub"
      },
      "source": [
        "En el examen solicitaba los modelos: Regresión Logística y Support Vector Machine. El árbol de decisión lo incluido únicamente a nivel experimental, pero la resolución del examen me centraré exclusivamente en los modelos: **Regresión Logística y Support Vector Machine.**\n",
        "\n",
        "De los modelos: Regresión Logística y Support Vector Machine, el que pondría en producción es el SVM. Aunque uno de sus inconvenientes es el coste computacional, en volúmenenes elevados de datos, en éste no parece que sea el caso, el volumen de registros y atributos es reducido. Por otro lado como se ve en la curva ROC la del SVM y área AUC son mucho mejores a las de LOGR. Adicionalmente **todas** las metricas el modelo SVM son muy superiores a las del LOGR, tanto Precisión (0.820 vs 0.670), como Exactitud (0.818 vs 0.666), como F1 (0.817 vs 0.666) ... Sobretodo sobresale en los falsos negativos que SVM tiene 7 contra los 20 de LOGR.\n",
        "\n",
        "SVM ha pertido solventar algún problema de solape de las etiquetas, pues al utilizar el algoritmo sin el parámetro \"C\" el Accuracy fue de 0.791 frente a los 0.816 con un \"C=10\"\n",
        "\n",
        "Si por el contrario el entorno que se ha de poner en producción requiere gran rapidez, simplicidad y muy alta escalabilidad, pues se supone que el volumen de datos crecerá mucho (y no se requiere un exactitud muy elevada), la regresión logística sería la mejor opción. Si como hemos presentado el entorno requiere mayor precisión, no crecerá el volumen de datos y éstos serán complejos, SVM sería el seleccionado, siendo conscientes del mayor tiempo de entrenamiento y posiblemente mayor consumo de recursos.\n",
        "\n",
        "----------\n",
        "\n",
        "Como añadido, al introducir los árboles de decisión, parece que éstos obtienen unos valores en las métricas y curva ROC superiores a cualquier otro de los modelos anteriores. Habría que analizar si se ha producido algun \"sobreajuste\" aunque al utilizar y comprobar las métricas obtenidas con los datos de training y los de test no parece que se produzca dicho \"sobreajuste\""
      ]
    },
    {
      "cell_type": "code",
      "execution_count": null,
      "metadata": {
        "id": "tWInwVRbu1ub"
      },
      "outputs": [],
      "source": []
    }
  ],
  "metadata": {
    "kernelspec": {
      "display_name": "Python 3 (ipykernel)",
      "language": "python",
      "name": "python3"
    },
    "language_info": {
      "codemirror_mode": {
        "name": "ipython",
        "version": 3
      },
      "file_extension": ".py",
      "mimetype": "text/x-python",
      "name": "python",
      "nbconvert_exporter": "python",
      "pygments_lexer": "ipython3",
      "version": "3.11.7"
    },
    "colab": {
      "provenance": [],
      "include_colab_link": true
    }
  },
  "nbformat": 4,
  "nbformat_minor": 0
}