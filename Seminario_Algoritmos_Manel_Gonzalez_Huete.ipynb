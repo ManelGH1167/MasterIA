{
  "cells": [
    {
      "cell_type": "markdown",
      "metadata": {
        "id": "view-in-github",
        "colab_type": "text"
      },
      "source": [
        "<a href=\"https://colab.research.google.com/github/ManelGH1167/MasterIA/blob/main/Seminario_Algoritmos_Manel_Gonzalez_Huete.ipynb\" target=\"_parent\"><img src=\"https://colab.research.google.com/assets/colab-badge.svg\" alt=\"Open In Colab\"/></a>"
      ]
    },
    {
      "cell_type": "markdown",
      "metadata": {
        "id": "hVbXYX-RfPWh"
      },
      "source": [
        "# Algoritmos de optimización - Seminario<br>\n",
        "Nombre y Apellidos: <font color='Darkblue'>Manel González Huete</font><br>\n",
        "Url: https://github.com/.../03MAIR---Algoritmos-de-Optimizacion---2019/tree/master/SEMINARIO<br>\n",
        "Problema:\n",
        ">1. Sesiones de doblaje <br>\n",
        ">2. Organizar los horarios de partidos de La Liga<br>\n",
        ">3. Combinar cifras y operaciones\n",
        "\n",
        "Descripción del problema:(copiar enunciado)\n",
        "                                        "
      ]
    },
    {
      "cell_type": "markdown",
      "metadata": {
        "id": "BpiwwQjmZ5lH"
      },
      "source": [
        "<font color='Darkblue'>\n",
        "<h4>Descripción del problema</h4>\n",
        "<h5>Sesiones de doblaje</h5>\n",
        "• Se precisa coordinar el doblaje de una película. Los actores del doblaje deben coincidir en las\n",
        "tomas en las que sus personajes aparecen juntos en las diferentes tomas. Los actores de\n",
        "doblaje cobran todos la misma cantidad por cada día que deben desplazarse hasta el estudio de\n",
        "grabación independientemente del número de tomas que se graben. No es posible grabar más\n",
        "de 6 tomas por día. El objetivo es planificar las sesiones por día de manera que el gasto por los\n",
        "servicios de los actores de doblaje sea el menor posible.</font>\n",
        "\n",
        "(*) La respuesta es obligatoria    "
      ]
    },
    {
      "cell_type": "code",
      "execution_count": null,
      "metadata": {
        "id": "AiskKkzZfy4e"
      },
      "outputs": [],
      "source": [
        "#Asignacion de doblajes - Ramificación y Poda\n",
        "################################################################################\n",
        "#    T A R E A\n",
        "#   A\n",
        "#   G\n",
        "#   E\n",
        "#   N\n",
        "#   T\n",
        "#   E\n",
        "\n",
        "TOMAS0=[[1,1,1,1,1,0,0,0,0,0],\n",
        "        [0,0,1,1,1,0,0,0,0,0],\n",
        "        [0,1,0,0,1,0,1,0,0,0],\n",
        "        [1,1,0,0,0,0,1,1,0,0],\n",
        "        [0,1,0,1,0,0,0,1,0,0],\n",
        "        [1,1,0,1,1,0,0,0,0,0],\n",
        "        [1,1,0,1,1,0,0,0,0,0],\n",
        "        [1,1,0,0,0,1,0,0,0,0],\n",
        "        [1,1,0,1,0,0,0,0,0,0],\n",
        "        [1,1,0,0,0,1,0,0,1,0],\n",
        "        [1,1,1,0,1,0,0,1,0,0],\n",
        "        [1,1,1,1,0,1,0,0,0,0],\n",
        "        [1,0,0,1,1,0,0,0,0,0],\n",
        "        [1,0,1,0,0,1,0,0,0,0],\n",
        "        [1,1,0,0,0,0,1,0,0,0],\n",
        "        [0,0,0,1,0,0,0,0,0,1],\n",
        "        [1,0,1,0,0,0,0,0,0,0],\n",
        "        [0,0,1,0,0,1,0,0,0,0],\n",
        "        [1,0,1,0,0,0,0,0,0,0],\n",
        "        [1,0,1,1,1,0,0,0,0,0],\n",
        "        [0,0,0,0,0,1,0,1,0,0],\n",
        "        [1,1,1,1,0,0,0,0,0,0],\n",
        "        [1,0,1,0,0,0,0,0,0,0],\n",
        "        [0,0,1,0,0,1,0,0,0,0],\n",
        "        [1,1,0,1,1,0,0,0,0,1],\n",
        "        [1,0,1,0,1,0,0,0,1,0],\n",
        "        [0,0,0,1,1,0,0,0,0,0],\n",
        "        [1,0,0,1,0,0,0,0,0,0],\n",
        "        [1,0,0,0,1,1,0,0,0,0],\n",
        "        [1,0,0,1,0,0,0,0,0,0]]"
      ]
    },
    {
      "cell_type": "markdown",
      "metadata": {
        "id": "3_-exlrTgLd-"
      },
      "source": [
        "(*)¿Cuantas posibilidades hay sin tener en cuenta las restricciones?<br>\n",
        "\n",
        "\n",
        "\n",
        "¿Cuantas posibilidades hay teniendo en cuenta todas las restricciones.\n",
        "\n",
        "\n"
      ]
    },
    {
      "cell_type": "markdown",
      "metadata": {
        "id": "WfCUqJyKhPcw"
      },
      "source": [
        "Respuesta"
      ]
    },
    {
      "cell_type": "markdown",
      "metadata": {
        "id": "iq6Fe32MgpDX"
      },
      "source": [
        "<font color='Darkblue'>\n",
        "<h5>Sin restricciones</h5>\n",
        "Si no entiendo mal el problema, si **no se pone ninguna restricción**, para minimizar el coste, la posibilidad es la de máximos, que todos los actores vayan el mismo día, cómo no hay limitación al número de tomas que un actor puede realizar durante el día, podría ejecutar cualquiera. Esto minimizará el coste teniendo que pagar sólo 10 dietas, una a cada actor.</font>"
      ]
    },
    {
      "cell_type": "markdown",
      "metadata": {
        "id": "mtvIk5eNZ5lI"
      },
      "source": [
        "<font color='Darkblue'>\n",
        "<h5>Restricción 6 tomas máximo por día</h5>\n",
        "Se trataría del número de combinaciones posibles de 6 elementos que se pueden formar a partir de un conjunto de 30 elementos distintos.\n",
        "$$C(n,k) = \\frac{n!}{k!(n−k)!}$$\n",
        "$$C(30,6) = \\frac{30!}{6!(30−6)!} = \\frac{30!}{6!24!} = \\frac{30∗29∗28∗27∗26∗25}{6∗5∗4∗3∗2∗1} = 593,775$$\n",
        "</font>"
      ]
    },
    {
      "cell_type": "markdown",
      "metadata": {
        "id": "dzynfVJahHoY"
      },
      "source": [
        "Modelo para el espacio de soluciones<br>\n",
        "(*) ¿Cual es la estructura de datos que mejor se adapta al problema? Argumentalo.(Es posible que hayas elegido una al principio y veas la necesidad de cambiar, arguentalo)\n"
      ]
    },
    {
      "cell_type": "markdown",
      "metadata": {
        "id": "xFIJrOwKi2Ti"
      },
      "source": [
        "Respuesta"
      ]
    },
    {
      "cell_type": "markdown",
      "metadata": {
        "id": "38c-7-ejhJmA"
      },
      "source": [
        "<font color='Darkblue'>La mejor estructura para gestionar los datos del problema es un <b>diccionario</b>, cada entrada sería uno de los días (1,2,3...) y los valores del mismo sería la lista de tomas asignadas [1,4,6...], del tipo:\n",
        "<b>asignacion = { día: [toma1, toma2, ...] }</b><br>\n",
        "Permite:<br>- Acceder rápidamente a un día y a las tomas que se han asignado<br>- Agragar elementos a la estructura es también directo O(1)<br>- Obtener los actores diferentes es también fácil asignando el resultado a conjunto (con el que obtendremos los actores diferentes)<br>- Solo mantiene en memoria las asignaciones por día, con lo que el consumo es reducido, crece linealmente según el volumen de tomas/actores<br><br>Otra opción podría ser una lista de listas, pero considero que iterar y buscar sobre la misma sería menos eficiente.</font>"
      ]
    },
    {
      "cell_type": "markdown",
      "metadata": {
        "id": "7Z9U2W7bi-XS"
      },
      "source": [
        "Según el modelo para el espacio de soluciones<br>\n",
        "(*)¿Cual es la función objetivo?\n",
        "\n",
        "(*)¿Es un problema de maximización o minimización?"
      ]
    },
    {
      "cell_type": "markdown",
      "metadata": {
        "id": "hBalWLM7j1_d"
      },
      "source": [
        "Respuesta"
      ]
    },
    {
      "cell_type": "markdown",
      "metadata": {
        "id": "TvjQKfQYZ5lJ"
      },
      "source": [
        "<font color='Darkblue'>\n",
        "<h4>Función objetivo</h4>    \n",
        "La función objetivo sería: <b>Coste_total = Coste_día * Número_días.</b></font>"
      ]
    },
    {
      "cell_type": "markdown",
      "metadata": {
        "id": "7rz5vOvGZ5lJ"
      },
      "source": [
        "<font color='Darkblue'>Este es un problema de <b>minimización</b>. El objetivo es reducir el número de días que los actores deben ir al estudio de grabación. Como todos cobran los mismo por desplazamiento. Por lo tanto minimizar esl \"Coste_total\" es minimizar el número de días de grabación./<font>"
      ]
    },
    {
      "cell_type": "markdown",
      "metadata": {
        "id": "rlnTYgY1j6I2"
      },
      "source": [
        "Diseña un algoritmo para resolver el problema por fuerza bruta"
      ]
    },
    {
      "cell_type": "markdown",
      "metadata": {
        "id": "70rDgxYXkC8r"
      },
      "source": [
        "Respuesta"
      ]
    },
    {
      "cell_type": "markdown",
      "metadata": {
        "id": "6sQiSLkJZ5lJ"
      },
      "source": [
        "<font color='Darkblue'><h4>Algoritmo fuerza bruta</h4></font>"
      ]
    },
    {
      "cell_type": "markdown",
      "metadata": {
        "id": "JhHnUpz6Z5lJ"
      },
      "source": [
        "<font color='Darkblue'>\n",
        "<h4>Función objetivo</h4>    \n",
        "La función objetivo sería: <b>Coste_total = Coste_día * Número_días.</b></font>"
      ]
    },
    {
      "cell_type": "code",
      "execution_count": null,
      "metadata": {
        "id": "ETrI9a-QZ5lJ"
      },
      "outputs": [],
      "source": [
        "# Decorador para medir el tiempo de ejecución\n",
        "def medir_tiempo(func):\n",
        "    def wrapper(*args, **kwargs):\n",
        "        inicio = time.perf_counter()\n",
        "        resultado = func(*args, **kwargs)\n",
        "        fin = time.perf_counter()\n",
        "        print(f\"Tiempo de ejecución de '{func.__name__}': {fin - inicio:.6f} segundos\")\n",
        "        return resultado\n",
        "    return wrapper"
      ]
    },
    {
      "cell_type": "code",
      "execution_count": null,
      "metadata": {
        "id": "AOZb0jTsZ5lK"
      },
      "outputs": [],
      "source": [
        "TOMAS1=[[0,0,1,1,1,0,0,0,0,0],\n",
        "        [0,0,0,0,1,0,1,0,0,0],\n",
        "        [1,1,1,1,0,1,1,1,0,1],\n",
        "        [0,1,0,1,0,0,0,1,0,0],\n",
        "        [1,1,0,1,1,0,0,0,0,0],\n",
        "        [1,1,1,1,1,0,0,0,0,0]\n",
        "  ]"
      ]
    },
    {
      "cell_type": "code",
      "execution_count": null,
      "metadata": {
        "id": "qIUdY_SHZ5lK"
      },
      "outputs": [],
      "source": [
        "TOMAS2=[[0,0,1,1,1,0,0,0,0,0],\n",
        "        [0,0,0,0,1,0,1,0,0,0],\n",
        "        [1,1,1,1,0,1,1,1,0,1],\n",
        "        [0,1,0,1,0,0,0,1,0,0],\n",
        "        [1,1,0,1,1,0,0,0,0,0],\n",
        "        [1,1,1,1,1,0,0,0,0,0],\n",
        "        [1,1,0,1,1,0,0,0,0,0]\n",
        "  ]"
      ]
    },
    {
      "cell_type": "code",
      "execution_count": null,
      "metadata": {
        "id": "f94Dg6NrZ5lK"
      },
      "outputs": [],
      "source": [
        "TOMAS3=[[1,1,1,1,1,0,0,0,0,0],\n",
        "        [0,0,1,1,1,0,0,0,0,0],\n",
        "        [0,1,0,0,1,0,1,0,0,0],\n",
        "        [1,1,0,0,0,0,1,1,0,0],\n",
        "        [0,1,0,1,0,0,0,1,0,0],\n",
        "        [1,1,0,1,1,0,0,0,0,0],\n",
        "        [1,1,0,1,1,0,0,0,0,0],\n",
        "        [1,1,0,0,0,1,0,0,0,0]\n",
        "  ]"
      ]
    },
    {
      "cell_type": "code",
      "execution_count": null,
      "metadata": {
        "id": "HV1ShUACZ5lK"
      },
      "outputs": [],
      "source": [
        "TOMAS4=[[1,1,1,1,1,0,0,0,0,0],\n",
        "        [0,0,1,1,1,0,0,0,0,0],\n",
        "        [0,1,0,0,1,0,1,0,0,0],\n",
        "        [1,1,0,0,0,0,1,1,0,0],\n",
        "        [0,1,0,1,0,0,0,1,0,0],\n",
        "        [1,1,0,1,1,0,0,0,0,0],\n",
        "        [1,1,0,1,1,0,0,0,0,0],\n",
        "        [1,1,0,0,0,1,0,0,0,0],\n",
        "        [1,1,0,1,0,0,0,0,0,0],\n",
        "        [1,1,0,0,0,1,0,0,1,0]\n",
        "  ]"
      ]
    },
    {
      "cell_type": "code",
      "execution_count": null,
      "metadata": {
        "id": "CJb5sQ0qkENy"
      },
      "outputs": [],
      "source": [
        "import copy\n",
        "import time\n",
        "\n",
        "@medir_tiempo\n",
        "def fuerza_bruta_doblaje_coste(tomas, tomas_max):\n",
        "    \"\"\"\n",
        "    Resuelve el problema de doblaje por fuerza bruta optimizando el coste.\n",
        "    Args:\n",
        "        tomas: Lista de listas, donde cada sublista representa una toma\n",
        "               y contiene 1s y 0s indicando la participación de los actores.\n",
        "        tomas_max: Restricción de número máximo de tomas a realizar\n",
        "    Returns:\n",
        "        Tupla: (coste mínimo, diccionario con la asignación de tomas a días)\n",
        "               o (infinito, None) si no hay solución.\n",
        "    \"\"\"\n",
        "\n",
        "    num_tomas = len(tomas)\n",
        "    mejor_coste = float('inf')\n",
        "    mejor_asignacion_coste = None\n",
        "\n",
        "    def generar_combinaciones(indice_toma, asignacion_actual, compatibilidad_por_dia, tomas_max):\n",
        "        nonlocal mejor_coste, mejor_asignacion_coste\n",
        "\n",
        "        # Busqueda condición salida del proceso recursivo ............\n",
        "        # Si hemos asignado todas las tomas\n",
        "        if indice_toma == num_tomas:\n",
        "            dias = {}\n",
        "            # Recorremos todos las tomas y miramos el día que tienen asignada.\n",
        "            for iToma, dia in enumerate(asignacion_actual):\n",
        "                if dia not in dias:\n",
        "                    dias[dia] = []\n",
        "                # Añadimos a la lista del \"dia\" la toma que tenía asignada\n",
        "                dias[dia].append(iToma)\n",
        "\n",
        "            # Recorremos los días asignados a grabaciones\n",
        "            coste_total = 0\n",
        "            for dia in dias:\n",
        "                actores_dia = set()\n",
        "\n",
        "                # Recorreos las tomas asignadas por día\n",
        "                for toma_idx in dias[dia]:\n",
        "                    # Recorremos los actores de la toma seleccionada\n",
        "                    for actor_idx, participa in enumerate(tomas[toma_idx]):\n",
        "                        if participa == 1:\n",
        "                           actores_dia.add(actor_idx)  #Añadimos el actor al día\n",
        "\n",
        "                #Calculamos el total de actores involucrados en todos los días de grabación\n",
        "                coste_total += len(actores_dia)\n",
        "\n",
        "            # Si el coste total de actores por día es mejor que el calculado hasta el momento salimos (del recursivo)\n",
        "            if coste_total < mejor_coste:\n",
        "               mejor_coste = coste_total\n",
        "               mejor_asignacion_coste = dias.copy()\n",
        "               # print(\"---\",mejor_asignacion_coste, mejor_coste)\n",
        "            return\n",
        "\n",
        "        # Recorremos las días, uno para cada toma\n",
        "        for dia in range(1, num_tomas + 1):\n",
        "            asignacion_actual.append(dia)\n",
        "            dias_actuales = {}  # Diccionario para contar tomas por día en esta rama\n",
        "            valida_rama = True  # Validez para la rama actual\n",
        "\n",
        "            # De la asignación actual recorremos todas las tomas y el día al que se asignan\n",
        "            for iToma, dia_toma in enumerate(asignacion_actual):\n",
        "                # Si no hay día asignado, se inicia\n",
        "                if dia_toma not in dias_actuales:\n",
        "                    dias_actuales[dia_toma] = 0\n",
        "                # Aumenta el contador de tomas por día\n",
        "                dias_actuales[dia_toma] += 1\n",
        "                # Si el número de tomas en el día es superior a \"tomas_max\" paramos de asignar\n",
        "                if dias_actuales[dia_toma] > tomas_max:\n",
        "                    valida_rama = False\n",
        "                    break\n",
        "            # Saltar si la rama es inválida --> superior a \"tomas_max\" tomas\n",
        "            if not valida_rama:\n",
        "                asignacion_actual.pop()\n",
        "                continue  # Saltar a la siguiente iteración del bucle for\n",
        "\n",
        "            generar_combinaciones(indice_toma + 1, asignacion_actual, compatibilidad_por_dia, tomas_max)\n",
        "            # Si hemos llegado aquí, es que todas las tomas están asignadas.\n",
        "            # Pero tenemos que seguir explorando posibilidades, por lo que quitamos un elemento\n",
        "            # para seguir iterando\n",
        "            asignacion_actual.pop()  # Backtracking\n",
        "\n",
        "    mejor_compatibilidad_por_dia = {}\n",
        "    generar_combinaciones(0, [], mejor_compatibilidad_por_dia, tomas_max) # lanzamos las iteracciones\n",
        "    return mejor_coste, mejor_asignacion_coste"
      ]
    },
    {
      "cell_type": "code",
      "execution_count": null,
      "metadata": {
        "id": "N10oNBCAZ5lK"
      },
      "outputs": [],
      "source": [
        "def mostrar_resultados(mejor_coste, mejor_asignacion_coste):\n",
        "    # Mostramos el resultado de la operación:\n",
        "    if mejor_asignacion_coste:\n",
        "        print(\"Coste mínimo:\", mejor_coste)\n",
        "        print(\"Asignación de tomas:\")\n",
        "        for dia, lista_tomas in mejor_asignacion_coste.items():\n",
        "            coste_total = 0\n",
        "            print(f\"Día {dia}: {lista_tomas}\" )\n",
        "    else:\n",
        "        print(\"No se encontró una solución válida.\")"
      ]
    },
    {
      "cell_type": "code",
      "execution_count": null,
      "metadata": {
        "id": "SfTvBo6fZ5lK",
        "outputId": "fdd05300-73f7-45f4-ff24-66edab660642"
      },
      "outputs": [
        {
          "name": "stdout",
          "output_type": "stream",
          "text": [
            "Tiempo de ejecución de 'fuerza_bruta_doblaje_coste': 0.320440 segundos\n",
            "Coste mínimo: 14\n",
            "Asignación de tomas:\n",
            "Día 1: [0, 4, 5]\n",
            "Día 2: [1, 2, 3]\n"
          ]
        }
      ],
      "source": [
        "# Pruebas con un volumen de 6 Tomas\n",
        "mejor_coste, mejor_asignacion_coste = fuerza_bruta_doblaje_coste(TOMAS1,3)\n",
        "mostrar_resultados(mejor_coste, mejor_asignacion_coste)"
      ]
    },
    {
      "cell_type": "code",
      "execution_count": null,
      "metadata": {
        "id": "QKllk0AKZ5lK",
        "outputId": "1df9032c-55d7-4187-b921-4363e7eb7a6c"
      },
      "outputs": [
        {
          "name": "stdout",
          "output_type": "stream",
          "text": [
            "Tiempo de ejecución de 'fuerza_bruta_doblaje_coste': 6.411649 segundos\n",
            "Coste mínimo: 11\n",
            "Asignación de tomas:\n",
            "Día 1: [0, 2, 3, 4, 5, 6]\n",
            "Día 2: [1]\n"
          ]
        }
      ],
      "source": [
        "# Pruebas con un volumen de 7 Tomas\n",
        "mejor_coste, mejor_asignacion_coste = fuerza_bruta_doblaje_coste(TOMAS2,6)\n",
        "mostrar_resultados(mejor_coste, mejor_asignacion_coste)"
      ]
    },
    {
      "cell_type": "code",
      "execution_count": null,
      "metadata": {
        "id": "zhQpsvucZ5lL",
        "outputId": "4809c460-167a-4905-e077-4f274263f176"
      },
      "outputs": [
        {
          "name": "stdout",
          "output_type": "stream",
          "text": [
            "Tiempo de ejecución de 'fuerza_bruta_doblaje_costo': 113.891611 segundos\n",
            "Costo mínimo: 12\n",
            "Asignación de tomas:\n",
            "Día 1: [0, 1, 2, 3, 4, 5]\n",
            "Día 2: [6, 7]\n"
          ]
        }
      ],
      "source": [
        "# Pruebas con un volumen de 8 Tomas\n",
        "mejor_coste, mejor_asignacion_coste = fuerza_bruta_doblaje_coste(TOMAS3,6)\n",
        "mostrar_resultados(mejor_coste, mejor_asignacion_coste)"
      ]
    },
    {
      "cell_type": "code",
      "execution_count": null,
      "metadata": {
        "id": "KnqbLFjRZ5lL"
      },
      "outputs": [],
      "source": [
        "# Pruebas con un volumen de 10 Tomas\n",
        "mejor_coste, mejor_asignacion_coste = fuerza_bruta_doblaje_coste(TOMAS4,6)\n",
        "mostrar_resultados(mejor_coste, mejor_asignacion_coste)"
      ]
    },
    {
      "cell_type": "markdown",
      "metadata": {
        "id": "E2VOXg0rZ5lL"
      },
      "source": [
        "<font color='red'>Tengo que finalizar el proceso tras: <b>mas de 3 horas</b></font>"
      ]
    },
    {
      "cell_type": "markdown",
      "metadata": {
        "id": "tgrnsC2nkFa8"
      },
      "source": [
        "Calcula la complejidad del algoritmo por fuerza bruta"
      ]
    },
    {
      "cell_type": "markdown",
      "metadata": {
        "id": "9eUd3xwckP68"
      },
      "source": [
        "Respuesta"
      ]
    },
    {
      "cell_type": "markdown",
      "metadata": {
        "id": "_uHltQtaZ5lL"
      },
      "source": [
        "<font color='Darkblue'>\n",
        "Teniendo presente que una toma sólo se asigna a un día, que el orden en que se asigna una toma, dentro de un día, tampoco influye en el coste total y que se trataría de encontrar la permitación de las tomas, la complejidad sería <b>factorial (n!) = 30!</b> ya que tenemos que buscar todas las tomas y combinarlas en los días posibles.\n",
        "</font>"
      ]
    },
    {
      "cell_type": "markdown",
      "metadata": {
        "id": "txbrmLmskReM"
      },
      "source": [
        "(*)Diseña un algoritmo que mejore la complejidad del algortimo por fuerza bruta. Argumenta porque crees que mejora el algoritmo por fuerza bruta"
      ]
    },
    {
      "cell_type": "markdown",
      "metadata": {
        "id": "yfpXaCdqZ5lL"
      },
      "source": [
        "<font color='Darkblue'><h4>Algoritmo voraz</h4></font>"
      ]
    },
    {
      "cell_type": "markdown",
      "metadata": {
        "id": "lNpKyX2jZ5lL"
      },
      "source": [
        "<font color='Darkblue'>\n",
        "Crear un algoritmo voraz podría dar un mejor resultado:<br>\n",
        "* Ordenamos las tomas por número de actores participantes<br>\n",
        "* Cogemos la primera toma y la cotejamos con el resto, miramos cuantos actores se solapan (por lo que cobrarían sólo una dieta) y cuantos actores se añadirían<br>\n",
        "* Ordenamos la lista de tomas, descendente en base al número de actores que ampliarían el número de éstos que irían el mismo día y seleccionariamos los 6 que menos ampliarían el resultado.<br>\n",
        "* Registramos las tomas asignadas y pasamos a realizar la misma acción con las restantes.\n",
        "</font>"
      ]
    },
    {
      "cell_type": "markdown",
      "metadata": {
        "id": "hLrVwt5QkZPD"
      },
      "source": [
        "Respuesta"
      ]
    },
    {
      "cell_type": "code",
      "execution_count": null,
      "metadata": {
        "id": "zSmexN3dZ5lL"
      },
      "outputs": [],
      "source": [
        "def calcular_peso(toma1, toma2):\n",
        "    \"\"\"\n",
        "    Calcula el \"peso\" de combinar dos tomas (tanto de actores coincidentes como totales).\n",
        "    Args:\n",
        "        toma1: Una lista de 1s y 0s que representa la primera toma.\n",
        "        toma2: Una lista de 1s y 0s que representa la segunda toma.\n",
        "    Returns:\n",
        "        Dos enteros: Uno que representa el \"peso\" de la unión de las dos tomas.\n",
        "                     Otro que representa el \"peso\" de la combinación de todos los actores de las dos tomas.\n",
        "    \"\"\"\n",
        "    actores_comunes = sum(x and y for x, y in zip(toma1, toma2))\n",
        "    actores_totales = sum(x or y for x, y in zip(toma1, toma2))\n",
        "    return actores_comunes, actores_totales"
      ]
    },
    {
      "cell_type": "code",
      "execution_count": null,
      "metadata": {
        "id": "I86-ng2AZ5lL"
      },
      "outputs": [],
      "source": [
        "def seleccionar_mejores_tomas(tomas_ordenadas, tomas, toma_pivote):\n",
        "    \"\"\"\n",
        "    Selecciona las mejores tomas para combinar con la toma pivote pasada por parámetro,\n",
        "    maximizando wl \"peso\" (actores comunes vs actores adicionales).\n",
        "    Args:\n",
        "        tomas_ordenadas: Una lista de índices de tomas ordenadas por número de actores participantes.\n",
        "        tomas: Una lista de listas que representan las tomas con sus actores.\n",
        "        toma_pivote: El índice de la toma sobre la que se realiza la combinación (primera toma).\n",
        "    Returns:\n",
        "        Una lista de índices de las tomas seleccionadas.\n",
        "    \"\"\"\n",
        "    pesos = []\n",
        "\n",
        "    indice_toma_pivote = toma_pivote[0]\n",
        "    for iToma in tomas_ordenadas[1:]:\n",
        "        peso_union, peso_total  = calcular_peso(tomas[indice_toma_pivote], tomas[iToma[0]])\n",
        "        pesos.append((indice_toma_pivote, iToma, peso_union, peso_total))\n",
        "\n",
        "    # Ordenar desceendente por:\n",
        "    #  - el cuarto elemento: numero actores coincidentes, cuanto menor sea el número significa que más actores coinciden y no habrá que pagar\n",
        "    #  - el tercer elemento: número actores añadidos: cuanto mayor sea el número significa que mas actores abarcamos y quedaran menos que pagar\n",
        "    pesos = sorted(pesos, key=lambda x: (x[3], -x[2]))\n",
        "    mejores_tomas = [x[1][0] for x in pesos[:5]]  # Máximo 5 tomas adicionales\n",
        "    return mejores_tomas"
      ]
    },
    {
      "cell_type": "code",
      "execution_count": null,
      "metadata": {
        "id": "7b86SaY3Z5lO"
      },
      "outputs": [],
      "source": [
        "@medir_tiempo\n",
        "def algoritmo_voraz(tomas):\n",
        "    \"\"\"\n",
        "    Resolver el problema de los actores y las tomas con un algoritmo voraz.\n",
        "    Args:\n",
        "        tomas: lista de listas, donde cada sublista representa una toma en la que\n",
        "               con un 1 o un 0 indicamos si un actor participa en la toma o no.\n",
        "    Returns:\n",
        "        Un diccionario que representa la asignación de tomas a días.\n",
        "    \"\"\"\n",
        "\n",
        "    def ordenar_tomas(tomas_restantes):\n",
        "        \"\"\"\n",
        "        Ordena las tomas por número de actores participantes. el orden es descendente.\n",
        "        Args:\n",
        "            tomas: lista de listas ( a ordenar), donde cada sublista representa una toma en la que\n",
        "                   con un 1 o un 0 indicamos si un actor participa en la toma o no.\n",
        "        Returns:\n",
        "            Una lista de tuplas, donde cada tupla contiene el índice de la toma\n",
        "            y contiene el número de actores participantes en esa toma.\n",
        "        \"\"\"\n",
        "        tomas_ordenadas = []\n",
        "        for i in tomas_restantes:\n",
        "            num_actores = sum(tomas[i])\n",
        "            tomas_ordenadas.append((i, num_actores))\n",
        "        tomas_ordenadas.sort(key=lambda x: x[1], reverse=True)\n",
        "        return tomas_ordenadas\n",
        "\n",
        "    num_tomas = len(tomas)\n",
        "    asignacion_tomas = {}\n",
        "    dias = 1\n",
        "    tomas_restantes = list(range(num_tomas))  # Lista de índices de tomas restantes\n",
        "\n",
        "    while tomas_restantes:\n",
        "        # 1. Ordenar las tomas restantes por número de actores participantes\n",
        "        tomas_ordenadas = ordenar_tomas(tomas_restantes)\n",
        "\n",
        "        # 2. Tomar la primera toma (la que requiere más actores)\n",
        "        toma_pivote = tomas_ordenadas[0]\n",
        "        # 3. Seleccionar las mejores tomas para combinar con la toma pivote (en este caso la primera)\n",
        "        mejores_tomas = seleccionar_mejores_tomas(tomas_ordenadas, tomas, toma_pivote)\n",
        "        # 4. Asignar las tomas al día actual\n",
        "        asignacion_tomas[dias] = [toma_pivote[0]] + mejores_tomas\n",
        "        # 5. Actualizar la lista de tomas restantes\n",
        "        tomas_restantes = [ toma for toma in tomas_restantes if toma not in asignacion_tomas[dias] ]\n",
        "\n",
        "        # 6. Pasar al siguiente día\n",
        "        dias += 1\n",
        "\n",
        "    return asignacion_tomas"
      ]
    },
    {
      "cell_type": "code",
      "execution_count": null,
      "metadata": {
        "id": "XY2MBDBKZ5lO",
        "outputId": "1f06df78-7b6e-48ea-ffbc-8f689a7403ce"
      },
      "outputs": [
        {
          "name": "stdout",
          "output_type": "stream",
          "text": [
            "Tiempo de ejecución de 'algoritmo_voraz': 0.000034 segundos\n",
            "Día 1: [2, 3, 5, 4, 0, 1]\n",
            "Coste total (por algoritmo voraz): 9\n",
            "\n",
            "Tiempo de ejecución de 'algoritmo_voraz': 0.000024 segundos\n",
            "Día 1: [2, 3, 5, 4, 6, 0]\n",
            "Día 2: [1]\n",
            "Coste total (por algoritmo voraz): 11\n",
            "\n",
            "Tiempo de ejecución de 'algoritmo_voraz': 0.000022 segundos\n",
            "Día 1: [0, 5, 6, 1, 2, 4]\n",
            "Día 2: [3, 7]\n",
            "Coste total (por algoritmo voraz): 12\n",
            "\n",
            "Tiempo de ejecución de 'algoritmo_voraz': 0.000027 segundos\n",
            "Día 1: [0, 5, 6, 1, 8, 2]\n",
            "Día 2: [3, 4, 7, 9]\n",
            "Coste total (por algoritmo voraz): 13\n",
            "\n",
            "Tiempo de ejecución de 'algoritmo_voraz': 0.000167 segundos\n",
            "Día 1: [0, 5, 6, 19, 21, 1]\n",
            "Día 2: [10, 16, 18, 22, 3, 25]\n",
            "Día 3: [11, 7, 8, 13, 17, 23]\n",
            "Día 4: [24, 12, 15, 26, 27, 29]\n",
            "Día 5: [9, 14, 28, 20, 2, 4]\n",
            "Coste total (por algoritmo voraz): 30\n",
            "\n"
          ]
        }
      ],
      "source": [
        "lista_tomas = [TOMAS1, TOMAS2, TOMAS3, TOMAS4, TOMAS0 ]\n",
        "\n",
        "# Probamos con diferentes combinaciones\n",
        "for lista in lista_tomas:\n",
        "    asignacion = algoritmo_voraz(lista)\n",
        "\n",
        "    # Imprimir la asignación de tomas a días\n",
        "    for dia, lista_tomas in asignacion.items():\n",
        "        print(f\"Día {dia}: {lista_tomas}\")\n",
        "\n",
        "    # Calcular y imprimir el coste total\n",
        "    coste_total = 0\n",
        "    for dia, lista_tomas in asignacion.items():\n",
        "        actores_dia = set()\n",
        "        for toma_idx in lista_tomas:\n",
        "            for actor_idx, participa in enumerate(lista[toma_idx]):\n",
        "                if participa == 1:\n",
        "                    actores_dia.add(actor_idx)\n",
        "        coste_total += len(actores_dia)\n",
        "\n",
        "    print(f\"Coste total (por algoritmo voraz): {coste_total}\\n\")"
      ]
    },
    {
      "cell_type": "markdown",
      "metadata": {
        "id": "hPE0Pe4gZ5lO"
      },
      "source": [
        "<font color='Darkblue'><h4>Algoritmo \"Ramificación y Poda\"</h4></font>"
      ]
    },
    {
      "cell_type": "markdown",
      "metadata": {
        "id": "A8ySSGD0Z5lO"
      },
      "source": [
        "Otra opción sería una lógica de \"Ramificación y Poda\""
      ]
    },
    {
      "cell_type": "markdown",
      "metadata": {
        "id": "JmdxPbnPZ5lO"
      },
      "source": [
        "<font color='Darkblue'>\n",
        "* Inicializamos las variables de: mejor_coste ← ∞ y  mejor_asignacion ← nulo<br>\n",
        "* Recorremos recursivamente los nodos de los día+tomas asignados<br>\n",
        "*** Si ya se han asignado todas las tomas --> se da la condición de salida de la recursividad<br>\n",
        "***** Calculamos el coste de todas las asignaciones dia+tomas<br>\n",
        "***** Si este coste es menor que el mejor de los actuales, lo guardamos como mejor y guardamos las asignaciones actuales<br>\n",
        "*** Si no estan todas las tomas asignadas calculamos el corte \"hipotético\" que tendríamos a partir de la asignación actual<br>\n",
        "***** Si este coste hipotético es peor que el mejor coste actual, hacemos la poda, ya no es necesario seguir por ese camino<br>\n",
        "*** Si hipotéticamente todavía puede ser un buen camino<br>\n",
        "***** Y no hemos llegado a las 6 tomas por día (restricción)<br>\n",
        "***** Añadimos la siguiente toma y seguimos recorriendo los nodos restantes a partir de esta nueva asignación (recursividad)<br>\n",
        "</font>"
      ]
    },
    {
      "cell_type": "code",
      "execution_count": null,
      "metadata": {
        "id": "ACE03NlPZ5lP"
      },
      "outputs": [],
      "source": [
        "import numpy as np\n",
        "\n",
        "@medir_tiempo\n",
        "def ramificacion_y_poda(tomas):\n",
        "    \"\"\"\n",
        "    Resuelve el problema de asignación de las tomas por Ramificación y Poda.\n",
        "    Args:\n",
        "        tomas: Una lista de listas, donde cada sublista representa una toma\n",
        "               y contiene 1s y 0s indicando la participación de los actores.\n",
        "    Returns:\n",
        "        Un diccionario que representa la asignación de tomas a días.\n",
        "    \"\"\"\n",
        "\n",
        "    num_tomas = len(tomas)\n",
        "    mejor_coste = float('inf')  # Inicializamos con infinito\n",
        "    mejor_asignacion = None\n",
        "\n",
        "    def calcular_coste_actual(asignacion_actual_tomas):\n",
        "        \"\"\"Calcula el coste hasta el punto actual de la asignación parcial.\"\"\"\n",
        "        coste_actual = 0\n",
        "        dias_asignados = {}  #Diccionario para la asignación por día de las tomas\n",
        "        # Recorrer las tomas asignadas\n",
        "        for iToma, dia in asignacion_actual_tomas:\n",
        "            # Si el día no está ya en el diccionario de dias asignados\n",
        "            if dia not in dias_asignados:\n",
        "                dias_asignados[dia] = []\n",
        "            # Añadimos el día con la toma asignada\n",
        "            dias_asignados[dia].append(iToma)\n",
        "\n",
        "        # Recorrer los días con tomas asignadas\n",
        "        for dia in dias_asignados:\n",
        "            actores_por_dia = set()\n",
        "            # Recorremos las tomas de un día concreto\n",
        "            for iToma in dias_asignados[dia]:\n",
        "                # Recorremos todos los actores de la toma\n",
        "                for iActor, participa in enumerate(tomas[iToma]):\n",
        "                    # Si el actor participa en la toma, se añade al conjunto de actores que actuan por dia\n",
        "                    if participa == 1:\n",
        "                        actores_por_dia.add(iActor)\n",
        "            # Calculamos el coste total para todos los días asignados\n",
        "            coste_actual += len(actores_por_dia)\n",
        "        return coste_actual\n",
        "\n",
        "    def calcular_recorrido_total(asignacion_tomas_actual):\n",
        "        \"\"\"Calcula el coste total del recorrido para las asignaciones actuales.\"\"\"\n",
        "        # Calculamos el coste total de las asignaciones de tomas actuales\n",
        "        coste_actual = calcular_coste_actual(asignacion_tomas_actual)\n",
        "\n",
        "        # Calculamos las tomas que faltan por asignar\n",
        "        tomas_restantes = [i for i in range(len(tomas)) if i not in [t[0] for t in asignacion_tomas_actual]]\n",
        "\n",
        "        if not tomas_restantes:  # No hay tomas restantes\n",
        "            return coste_actual\n",
        "\n",
        "        # Estimación simple: asignar las tomas restantes a días nuevos\n",
        "        # No es el mejor calculo para los restantes pero es una función simple (que es lo importante)\n",
        "        #  Otras funciones, como calcular los actores restantes penalizaría el cálculo\n",
        "        coste_minimo_restante = len(tomas_restantes)\n",
        "\n",
        "        # Función de calculo de restantes que calcula el número de actores que faltan por asignar\n",
        "        #    --> dispara el tiempo de resolución\n",
        "        ##### coste_minimo_restante = np.sum( np.any(np.array(tomas)[tomas_restantes] == 1, axis=0))\n",
        "\n",
        "        coste_total = coste_actual + coste_minimo_restante\n",
        "        return coste_total\n",
        "\n",
        "    def recorrer_nodo(asignacion_tomas_actual):\n",
        "        \"\"\"Recorre los nodos de las asignaciones para calcular la mejor posible.\"\"\"\n",
        "        nonlocal mejor_coste, mejor_asignacion\n",
        "\n",
        "        # Si ya hemos asignado todas las tomas --> función salida de la recursividad\n",
        "        if len(asignacion_tomas_actual) == num_tomas:\n",
        "            # Calculamos el coste de todas las asignaciones\n",
        "            coste_actual = calcular_coste_actual(asignacion_tomas_actual)\n",
        "            # Si el nuevo coste calculado es menor que el que teníamos calculado como limite --> actualizamos\n",
        "            if coste_actual < mejor_coste:\n",
        "                mejor_coste = coste_actual\n",
        "                mejor_asignacion = {}\n",
        "                # Recorremos los días y las tomas asignadas\n",
        "                for iToma, dia in asignacion_tomas_actual:\n",
        "                    if dia not in mejor_asignacion:\n",
        "                        mejor_asignacion[dia] = []\n",
        "                    #Por día asignamos las tomas correspondientes\n",
        "                    mejor_asignacion[dia].append(iToma)\n",
        "            return\n",
        "\n",
        "        # No hemos llegado a asignar todas las tomas --> calculamos los costes de la asignación actual\n",
        "        coste_tomas_limite = calcular_recorrido_total(asignacion_tomas_actual)\n",
        "\n",
        "        # Si el coste previsto es mayor que el actualmente calculado --> \"PODA\" no es necesario seguir\n",
        "        if coste_tomas_limite >= mejor_coste:\n",
        "            return\n",
        "\n",
        "        # La siguiente toma a procesar será la que esté por encima del número de asignadas actualmente\n",
        "        siguiente_toma = len(asignacion_tomas_actual)\n",
        "        # Recorremos el número de tomas que se han de procesar\n",
        "        for dia in range(1, num_tomas + 1):\n",
        "            # Control de 6 tomas por día\n",
        "            tomas_dia = [iToma for iToma, d in asignacion_tomas_actual if d == dia]\n",
        "            #Si no superamos la restricción de las 6 tomas por día\n",
        "            if len(tomas_dia) < 6:\n",
        "                asignacion_tomas_actual.append((siguiente_toma, dia))  # Añadir tupla (iToma, dia)\n",
        "                # Recorremos el siguiente nodo a partir de la asignación de tomas actuales\n",
        "                recorrer_nodo(asignacion_tomas_actual)\n",
        "                asignacion_tomas_actual.pop()\n",
        "    # -------- FIN recorrer_nodo\n",
        "\n",
        "    asignacion_inicial = []  # Inicializar como lista vacía\n",
        "    recorrer_nodo(asignacion_inicial)\n",
        "\n",
        "    return mejor_asignacion  # FIN ramificacion_y_poda"
      ]
    },
    {
      "cell_type": "code",
      "execution_count": null,
      "metadata": {
        "id": "r_XJ92IlZ5lP",
        "outputId": "5783b5b4-58f5-4fd0-d906-71a5064978fb"
      },
      "outputs": [
        {
          "name": "stdout",
          "output_type": "stream",
          "text": [
            "Tiempo de ejecución de 'ramificacion_y_poda': 0.000364 segundos\n",
            "Día 1: [0, 1, 2, 3, 4, 5]\n",
            "Coste total (por ramificación y poda): 9\n",
            "\n",
            "Tiempo de ejecución de 'ramificacion_y_poda': 0.001688 segundos\n",
            "Día 1: [0, 1, 2, 3, 4, 5]\n",
            "Día 2: [6]\n",
            "Coste total (por ramificación y poda): 13\n",
            "\n",
            "Tiempo de ejecución de 'ramificacion_y_poda': 0.000299 segundos\n",
            "Día 1: [0, 1, 2, 3, 4, 5]\n",
            "Día 2: [6, 7]\n",
            "Coste total (por ramificación y poda): 12\n",
            "\n",
            "Tiempo de ejecución de 'ramificacion_y_poda': 0.000567 segundos\n",
            "Día 1: [0, 1, 2, 3, 4, 5]\n",
            "Día 2: [6, 7, 8, 9]\n",
            "Coste total (por ramificación y poda): 13\n",
            "\n",
            "Tiempo de ejecución de 'ramificacion_y_poda': 66.461149 segundos\n",
            "Día 1: [0, 1, 2, 3, 4, 5]\n",
            "Día 2: [6, 7, 8, 9, 11, 12]\n",
            "Día 3: [10, 13, 14, 16, 17, 18]\n",
            "Día 4: [15, 19, 21, 22, 24, 25]\n",
            "Día 5: [20, 23, 26, 27, 28, 29]\n",
            "Coste total (por ramificación y poda): 34\n",
            "\n"
          ]
        }
      ],
      "source": [
        "lista_tomas = [TOMAS1, TOMAS2, TOMAS3, TOMAS4, TOMAS0 ]\n",
        "\n",
        "# Probamos con diferentes combinaciones\n",
        "for lista in lista_tomas:\n",
        "    asignacion = ramificacion_y_poda(lista)\n",
        "\n",
        "    # Imprimir la asignación de tomas a días\n",
        "    for dia, lista_tomas in asignacion.items():\n",
        "        print(f\"Día {dia}: {lista_tomas}\")\n",
        "\n",
        "    # Calcular y imprimir el costo total\n",
        "    costo_total = 0\n",
        "    for dia, lista_tomas in asignacion.items():\n",
        "        actores_dia = set()\n",
        "        for toma_idx in lista_tomas:\n",
        "            for actor_idx, participa in enumerate(lista[toma_idx]):\n",
        "                if participa == 1:\n",
        "                    actores_dia.add(actor_idx)\n",
        "        costo_total += len(actores_dia)\n",
        "\n",
        "    print(f\"Coste total (por ramificación y poda): {costo_total}\\n\")"
      ]
    },
    {
      "cell_type": "markdown",
      "metadata": {
        "id": "nVPVWe5OZ5lP"
      },
      "source": [
        "<font color='Darkblue'>Con la función de \"calculo de restantes\": <br>coste_minimo_restante = <b>np.sum( np.any(np.array(tomas)[tomas_restantes] == 1, axis=0))</b><br>-->paré la ejecución tras <b>más de 1200 segundos</b>, mientras con la función:<br>coste_minimo_restante = <b>len(tomas_restantes)</b><br>--> como se ve, el calculo se resuelve en <b>66 segundos</b>.</font>"
      ]
    },
    {
      "cell_type": "markdown",
      "metadata": {
        "id": "eGDB4K6uk1iN"
      },
      "source": [
        "(*)Calcula la complejidad del algoritmo"
      ]
    },
    {
      "cell_type": "markdown",
      "metadata": {
        "id": "NhpTh_BPk1ms"
      },
      "source": [
        "Respuesta"
      ]
    },
    {
      "cell_type": "markdown",
      "metadata": {
        "id": "nREzhkStlCq8"
      },
      "source": [
        "<font color='Darkblue'><h4>Complejidad algoritmica</h4></font>\n",
        "<font color='Darkblue'><h5>Algoritmo voraz</h5></font>"
      ]
    },
    {
      "cell_type": "markdown",
      "metadata": {
        "id": "t8_3uQjTZ5lP"
      },
      "source": [
        "<font color='Darkblue'>Coste pasos principales:</font>"
      ]
    },
    {
      "cell_type": "markdown",
      "metadata": {
        "id": "GglMqP4FZ5lP"
      },
      "source": [
        "<font color='Darkblue'>\n",
        "* Ordenar las \"n\" tomas por número de actores (con por ejemplo mergesort), complejidad de O(n log(n) )<br>\n",
        "* Recorrer las n tomas y para cada una intentar asignar a \"n\" dias O(n<sup>2</sup>)<br>\n",
        "*** Calcular el \"peso\" de cada una de las \"n\" tomas: comparar la lista de actores de la toma con los actores (m) de las tomas ya asignadas: O(m).<br>\n",
        "* Ordenar la lista de tomas por \"peso\" --> complejidad: O(n log(n) ).<br>\n",
        "<b>Complejidad total:</b> O(n log(n) ) + O(n<sup>2</sup> · m) + O(n log(n) ) = O(n<sup>2</sup> · m)  --> complejidad aprox. a <b>O(n<sup>2</sup>).</b>\n",
        "</font>"
      ]
    },
    {
      "cell_type": "markdown",
      "metadata": {
        "id": "Y6BnKXCHZ5lP"
      },
      "source": [
        "<font color='Darkblue'><h5>Algoritmo \"Ramificación y Poda\"</h5></font>"
      ]
    },
    {
      "cell_type": "markdown",
      "metadata": {
        "id": "WrceHt3TZ5lP"
      },
      "source": [
        "<font color='Darkblue'>Coste pasos principales:</font>"
      ]
    },
    {
      "cell_type": "markdown",
      "metadata": {
        "id": "Y2QXMNhCZ5lP"
      },
      "source": [
        "<font color='Darkblue'>\n",
        "La complejidad computacional en Ramificación y Poda no es tan directa, pues depende de dos factores fundamentales:<br>\n",
        "    1- La <b>función de calculo del camino restante</b>. Si esta se complica el tiempo de resolución se multiplica en base a la complejidad computacional de la misma. Por ejemplo, pasar de una función simple como: \"coste_minimo_restante = len(tomas_restantes) a: \"coste_minimo_restante=np.sum(np.any(np.array(tomas)[tomas_restantes]==1,axis=0))\" dispara el tiempo del cálculo (lo paré tras más de 1200 segundos, cuando la versión simple obtenía el calculo en un minuto)<br>\n",
        "    2- La <b>función de poda</b> que se pueda realizar, en el peor de los casos seraá semejante a la fuerza bruta y se acercará a \"exponencial\"  O(n!). Sin embargo, hemos de suponer que la poca ayudará a la búsqueda de la solución y se obtendrán costes computacionales menores que en fuerza bruta. Es decir, la complejidad dependerá del tipo de función de poda utilizada y lo bien que realice la misma, llegando a acercar la complejidad computacional a soluciones polinómicas.\n",
        "</font>"
      ]
    },
    {
      "cell_type": "markdown",
      "metadata": {
        "id": "3M6QjTsSkmYe"
      },
      "source": [
        "Según el problema (y tenga sentido), diseña un juego de datos de entrada aleatorios"
      ]
    },
    {
      "cell_type": "markdown",
      "metadata": {
        "id": "_z7CiPN-Z5lP"
      },
      "source": [
        "<font color='Darkblue'><h4>Problema aleatorio</h4></font>"
      ]
    },
    {
      "cell_type": "markdown",
      "metadata": {
        "id": "Jc3_OlyNkvjZ"
      },
      "source": [
        "Respuesta"
      ]
    },
    {
      "cell_type": "code",
      "execution_count": null,
      "metadata": {
        "id": "sJ-N2etjkyWc",
        "outputId": "02a991cd-fe46-4cc6-80aa-b09adeb65bba"
      },
      "outputs": [
        {
          "name": "stdout",
          "output_type": "stream",
          "text": [
            "[1, 1, 0, 1, 0, 1, 1, 0, 0, 1]\n",
            "[1, 1, 1, 1, 0, 1, 0, 0, 1, 1]\n",
            "[0, 0, 1, 1, 1, 0, 1, 1, 0, 1]\n",
            "[1, 0, 0, 0, 1, 0, 0, 1, 1, 1]\n",
            "[1, 0, 0, 1, 1, 0, 1, 1, 1, 0]\n",
            "[0, 1, 0, 1, 1, 1, 0, 0, 1, 0]\n",
            "[0, 0, 0, 0, 1, 0, 0, 0, 1, 1]\n",
            "[1, 0, 0, 1, 1, 1, 0, 0, 0, 1]\n",
            "[1, 0, 0, 0, 1, 0, 1, 0, 0, 0]\n",
            "[1, 1, 1, 0, 0, 1, 1, 0, 1, 0]\n",
            "[0, 0, 0, 1, 1, 1, 1, 1, 1, 0]\n",
            "[0, 0, 1, 0, 0, 1, 1, 0, 0, 1]\n"
          ]
        }
      ],
      "source": [
        "import random\n",
        "import numpy as np\n",
        "\n",
        "# Establecer la semilla\n",
        "random.seed(49)  # La semilla puede ser cualquier entero (por ejmeplo: random.seed(53) )\n",
        "\n",
        "# Generar el número tomas\n",
        "numero_tomas = random.randint(10, 40)\n",
        "# Generar el número actores\n",
        "numero_actores = random.randint(5, 15)\n",
        "# Generamos una lista de tomas y actores\n",
        "lista_principal = np.random.randint(0, 2, size=(numero_tomas, numero_actores)).tolist()\n",
        "\n",
        "# Imprimir la lista (opcional)\n",
        "for sublista in lista_principal:\n",
        "    print(sublista)"
      ]
    },
    {
      "cell_type": "markdown",
      "metadata": {
        "id": "zy5ZROmjlGo1"
      },
      "source": [
        "Aplica el algoritmo al juego de datos generado"
      ]
    },
    {
      "cell_type": "markdown",
      "metadata": {
        "id": "_Cmj-PVylMsa"
      },
      "source": [
        "Respuesta"
      ]
    },
    {
      "cell_type": "code",
      "execution_count": null,
      "metadata": {
        "id": "Jkx8GeiYlUz1",
        "outputId": "f56ed7a3-1c43-42e9-e86d-961e5ea285c0"
      },
      "outputs": [
        {
          "name": "stdout",
          "output_type": "stream",
          "text": [
            "Tiempo de ejecución de 'algoritmo_voraz': 0.000050 segundos\n",
            "Día 1: [1, 0, 9, 5, 7, 11]\n",
            "Día 2: [2, 6, 8, 4, 10, 3]\n",
            "Coste total (por algoritmo voraz): 14\n",
            "\n"
          ]
        }
      ],
      "source": [
        "asignacion = algoritmo_voraz(lista_principal)\n",
        "\n",
        "# Imprimir la asignación de tomas a días\n",
        "for dia, lista_tomas in asignacion.items():\n",
        "    print(f\"Día {dia}: {lista_tomas}\")\n",
        "\n",
        "# Calcular y imprimir el costo total\n",
        "costo_total = 0\n",
        "for dia, lista_tomas in asignacion.items():\n",
        "    actores_dia = set()\n",
        "    for toma_idx in lista_tomas:\n",
        "        for actor_idx, participa in enumerate(lista[toma_idx]):\n",
        "            if participa == 1:\n",
        "                actores_dia.add(actor_idx)\n",
        "    costo_total += len(actores_dia)\n",
        "\n",
        "print(f\"Coste total (por algoritmo voraz): {costo_total}\\n\")"
      ]
    },
    {
      "cell_type": "code",
      "execution_count": null,
      "metadata": {
        "id": "nltiS3UUZ5lQ",
        "outputId": "eb3f10c0-fa56-49a2-f472-f0c1523b5097"
      },
      "outputs": [
        {
          "name": "stdout",
          "output_type": "stream",
          "text": [
            "Tiempo de ejecución de 'ramificacion_y_poda': 0.035452 segundos\n",
            "Día 1: [0, 1, 2, 3, 4, 5]\n",
            "Día 2: [6, 7, 8, 9, 10, 11]\n",
            "Coste total (por ramificación y poda): 15\n",
            "\n"
          ]
        }
      ],
      "source": [
        "asignacion = ramificacion_y_poda(lista_principal)\n",
        "\n",
        "# Imprimir la asignación de tomas a días\n",
        "for dia, lista_tomas in asignacion.items():\n",
        "    print(f\"Día {dia}: {lista_tomas}\")\n",
        "\n",
        "# Calcular y imprimir el costo total\n",
        "costo_total = 0\n",
        "for dia, lista_tomas in asignacion.items():\n",
        "    actores_dia = set()\n",
        "    for toma_idx in lista_tomas:\n",
        "        for actor_idx, participa in enumerate(lista[toma_idx]):\n",
        "            if participa == 1:\n",
        "                actores_dia.add(actor_idx)\n",
        "    costo_total += len(actores_dia)\n",
        "\n",
        "print(f\"Coste total (por ramificación y poda): {costo_total}\\n\")"
      ]
    },
    {
      "cell_type": "markdown",
      "metadata": {
        "id": "eTFWUJQrtGcv"
      },
      "source": [
        "Enumera las referencias que has utilizado(si ha sido necesario) para llevar a cabo el trabajo"
      ]
    },
    {
      "cell_type": "markdown",
      "metadata": {
        "id": "YKQ_mRBttWsP"
      },
      "source": [
        "Respuesta"
      ]
    },
    {
      "cell_type": "markdown",
      "metadata": {
        "id": "rsxK_V81Z5lQ"
      },
      "source": [
        "<font color='Darkblue'><h4>Referencias</h4>\n",
        "https://es.wikipedia.org/wiki/Ramificaci%C3%B3n_y_poda<br>\n",
        "https://webdiis.unizar.es/~jcampos/ab/material/6-BranchBound.pdf<br>\n",
        "https://www.ruii.ipn.mx/index.php/RUII/article/download/86/86/86-Texto del artículo-303-1-10-20211203.pdf<br>\n",
        "https://www.cs.us.es/~jalonso/cursos/i1m-19/temas/tema-28.html<br>\n",
        "https://es.wikipedia.org/wiki/Algoritmo_voraz<br>\n",
        "https://academia-lab.com/enciclopedia/complejidad-computacional/<br>\n",
        "https://madi.nekomath.com/P4/Voraces.html<br>\n",
        "https://victoryepes.blogs.upv.es/tag/recocido-simulado/<br>\n",
        "https://sci2s.ugr.es/sites/default/files/files/Teaching/OtherPostGraduateCourses/Metaheuristicas/Int-Metaheuristicas-CAEPIA-2009.pdf</font>"
      ]
    },
    {
      "cell_type": "markdown",
      "metadata": {
        "id": "kAkDPUyRtYyH"
      },
      "source": [
        "Describe brevemente las lineas de como crees que es posible avanzar en el estudio del problema. Ten en cuenta incluso posibles variaciones del problema y/o variaciones al alza del tamaño"
      ]
    },
    {
      "cell_type": "markdown",
      "metadata": {
        "id": "IE0uZmo-tZu-"
      },
      "source": [
        "Respuesta"
      ]
    },
    {
      "cell_type": "markdown",
      "metadata": {
        "id": "7QS-OitzZ5lR"
      },
      "source": [
        "<font color='Darkblue'><h4>Otras alternativas</h4></font>"
      ]
    },
    {
      "cell_type": "markdown",
      "metadata": {
        "id": "tOYNYvfcZ5lR"
      },
      "source": [
        "<font color='Darkblue'><h5>Metaheurísticas: Recocido Simulado</h5></font>"
      ]
    },
    {
      "cell_type": "markdown",
      "metadata": {
        "id": "xI3VID02Z5lR"
      },
      "source": [
        "<font color='Darkblue'>\n",
        "* Empezamos con una solución inicial, un coste alto, por ejemplo, una toma asignada a un día, y una tasa de aceptación (temperatura) muy alta<br>\n",
        "* Iteramos por diferentes soluciones:<br>\n",
        "*** Realizamos una pequeña modificación (por ejemplo, mezclar dos días o cambiar una toma de día)    <br>\n",
        "*** Si el coste del cambio realizado mejora la solución, se acepta.<br>\n",
        "*** Si el coste es peor que el realizado, lo aceptamos en base a un probabilidad ponderada por la \"temperatura\"<br>\n",
        "*** En cada iteración bajamos la temperatura (por lo que en los casos de coste peor se irá reduciendo la probabilidad de aceptación)   <br>\n",
        "*** Finalizamos cuando la temperatura es muy baja o hemos llegado a un máximo de iteraciones.<br><br>\n",
        "En problemas de gran tamaño su rendimiento puede verse afectado significativamente o aportar sólo un óptimo local</font>"
      ]
    },
    {
      "cell_type": "markdown",
      "metadata": {
        "id": "d48qq_hgZ5lR"
      },
      "source": [
        "<br><font color='Darkblue'><h5>Metaheurísticas: Algoritmos Genéticos</h5></font>"
      ]
    },
    {
      "cell_type": "markdown",
      "metadata": {
        "id": "sUwvp0kMZ5lR"
      },
      "source": [
        "<font color='Darkblue'>* Creamos una población inicial, aleatoria, de asignaciones de tomas por días (asegurando que no excede de 6 tomas por día).<br>* En cada iteración o nueva generación de la población:<br>*** Seleccionamos las mejores soluciones (las que tienen menor número de actores distintos).<br>*** Cruzamos soluciones (intercambiamos tomas asignadas entre dos días, cruzamos a partir de un punto), asegurando no exceder 6 tomas por día.<br>*** Mutamos las soluciones (cambiamos una toma de uno de los días al azar).<br>* Repetimos hasta realizar un número de generaciones o hasta que hayamos encontrado una solución suficientemente buena (no mejoramos tras realizar varios cruces).<br><br>\n",
        "Puede dar una buena solución para problemas grandes, aunque es En problemas de gran tamaño su rendimiento puede reducirse significativamente o aportar sólo un óptimo local<br>Su coste computacional dependería del número de generaciones y del tamaño que establezcamos para la población: <b>O(P·G·A·T)</b><br>P=Tamaño población<br>G=Número de generaciones<br>T=Número de tomas<br>A=Número de actores</font>"
      ]
    }
  ],
  "metadata": {
    "colab": {
      "provenance": [],
      "include_colab_link": true
    },
    "kernelspec": {
      "display_name": "Python 3 (ipykernel)",
      "language": "python",
      "name": "python3"
    },
    "language_info": {
      "codemirror_mode": {
        "name": "ipython",
        "version": 3
      },
      "file_extension": ".py",
      "mimetype": "text/x-python",
      "name": "python",
      "nbconvert_exporter": "python",
      "pygments_lexer": "ipython3",
      "version": "3.11.7"
    }
  },
  "nbformat": 4,
  "nbformat_minor": 0
}